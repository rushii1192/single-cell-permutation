{
  "cells": [
    {
      "cell_type": "markdown",
      "metadata": {
        "id": "h6wCAEzPOCy1"
      },
      "source": [
        "# <div style=\"color:magenta;display:inline-block;border-radius:5px;background-color:#E6FFE6;font-family:Nexa;overflow:hidden\"><p style=\"padding:15px;color:magenta;overflow:hidden;font-size:90%;letter-spacing:0.5px;margin:0\"><b> </b> Import Modules</p></div>"
      ]
    },
    {
      "cell_type": "code",
      "execution_count": 1,
      "metadata": {
        "execution": {
          "iopub.execute_input": "2023-09-25T07:30:48.700496Z",
          "iopub.status.busy": "2023-09-25T07:30:48.700013Z",
          "iopub.status.idle": "2023-09-25T07:30:50.553107Z",
          "shell.execute_reply": "2023-09-25T07:30:50.551833Z",
          "shell.execute_reply.started": "2023-09-25T07:30:48.700458Z"
        },
        "executionInfo": {
          "elapsed": 2,
          "status": "ok",
          "timestamp": 1695710600402,
          "user": {
            "displayName": "",
            "userId": ""
          },
          "user_tz": -330
        },
        "id": "w4ZBcBM4OCy4",
        "trusted": true
      },
      "outputs": [],
      "source": [
        "import numpy as np\n",
        "import pandas as pd\n",
        "import matplotlib.pyplot as plt\n",
        "import seaborn as sns\n",
        "\n",
        "from rdkit import Chem\n",
        "from rdkit.Chem import Draw\n",
        "from rdkit.Chem import AllChem\n",
        "from rdkit.Chem.Draw import IPythonConsole\n",
        "from rdkit import Chem\n",
        "from rdkit.Chem import AllChem\n",
        "from sklearn.manifold import TSNE\n",
        "from sklearn.decomposition import PCA\n",
        "\n",
        "import warnings\n",
        "warnings.filterwarnings(\"ignore\")\n",
        "\n",
        "import math\n",
        "\n",
        "rc = {\n",
        "    \"axes.facecolor\": \"#E6FFE6\",\n",
        "    \"figure.facecolor\": \"#E6FFE6\",\n",
        "    \"axes.edgecolor\": \"#000000\",\n",
        "    \"grid.color\": \"#EBEBE7\",\n",
        "    \"font.family\": \"serif\",\n",
        "    \"axes.labelcolor\": \"#000000\",\n",
        "    \"xtick.color\": \"#000000\",\n",
        "    \"ytick.color\": \"#000000\",\n",
        "    \"grid.alpha\": 0.4\n",
        "}\n",
        "\n",
        "sns.set(rc=rc)\n",
        "\n",
        "from colorama import Style, Fore\n",
        "red = Style.BRIGHT + Fore.RED\n",
        "blu = Style.BRIGHT + Fore.BLUE\n",
        "mgt = Style.BRIGHT + Fore.MAGENTA\n",
        "gld = Style.BRIGHT + Fore.YELLOW\n",
        "res = Style.RESET_ALL"
      ]
    },
    {
      "cell_type": "markdown",
      "metadata": {
        "id": "WoYkJOGrOCy5"
      },
      "source": [
        "# <div style=\"color:magenta;display:inline-block;border-radius:5px;background-color:#E6FFE6;font-family:Nexa;overflow:hidden\"><p style=\"padding:15px;color:magenta;overflow:hidden;font-size:90%;letter-spacing:0.5px;margin:0\"><b> </b>Load data💾</p></div>"
      ]
    },
    {
      "cell_type": "code",
      "execution_count": 2,
      "metadata": {
        "colab": {
          "base_uri": "https://localhost:8080/",
          "height": 330
        },
        "execution": {
          "iopub.execute_input": "2023-09-25T07:30:56.207787Z",
          "iopub.status.busy": "2023-09-25T07:30:56.206870Z",
          "iopub.status.idle": "2023-09-25T07:30:57.521575Z",
          "shell.execute_reply": "2023-09-25T07:30:57.520278Z",
          "shell.execute_reply.started": "2023-09-25T07:30:56.207726Z"
        },
        "executionInfo": {
          "elapsed": 944,
          "status": "ok",
          "timestamp": 1695710605777,
          "user": {
            "displayName": "",
            "userId": ""
          },
          "user_tz": -330
        },
        "id": "aCFV3n49OCy5",
        "outputId": "a60f90b3-856d-4734-a022-5f99c3bcda90",
        "trusted": true
      },
      "outputs": [
        {
          "data": {
            "text/html": [
              "<div>\n",
              "<style scoped>\n",
              "    .dataframe tbody tr th:only-of-type {\n",
              "        vertical-align: middle;\n",
              "    }\n",
              "\n",
              "    .dataframe tbody tr th {\n",
              "        vertical-align: top;\n",
              "    }\n",
              "\n",
              "    .dataframe thead th {\n",
              "        text-align: right;\n",
              "    }\n",
              "</style>\n",
              "<table border=\"1\" class=\"dataframe\">\n",
              "  <thead>\n",
              "    <tr style=\"text-align: right;\">\n",
              "      <th></th>\n",
              "      <th>obs_id</th>\n",
              "      <th>library_id</th>\n",
              "      <th>plate_name</th>\n",
              "      <th>well</th>\n",
              "      <th>row</th>\n",
              "      <th>col</th>\n",
              "      <th>cell_id</th>\n",
              "      <th>donor_id</th>\n",
              "      <th>cell_type</th>\n",
              "      <th>sm_lincs_id</th>\n",
              "      <th>sm_name</th>\n",
              "      <th>SMILES</th>\n",
              "      <th>dose_uM</th>\n",
              "      <th>timepoint_hr</th>\n",
              "      <th>control</th>\n",
              "    </tr>\n",
              "  </thead>\n",
              "  <tbody>\n",
              "    <tr>\n",
              "      <th>0</th>\n",
              "      <td>000006a87ba75b72</td>\n",
              "      <td>library_4</td>\n",
              "      <td>plate_4</td>\n",
              "      <td>F7</td>\n",
              "      <td>F</td>\n",
              "      <td>7</td>\n",
              "      <td>PBMC</td>\n",
              "      <td>donor_2</td>\n",
              "      <td>T cells CD4+</td>\n",
              "      <td>LSM-4944</td>\n",
              "      <td>MLN 2238</td>\n",
              "      <td>CC(C)C[C@H](NC(=O)CNC(=O)c1cc(Cl)ccc1Cl)B(O)O</td>\n",
              "      <td>1.0</td>\n",
              "      <td>24</td>\n",
              "      <td>False</td>\n",
              "    </tr>\n",
              "    <tr>\n",
              "      <th>1</th>\n",
              "      <td>0000233976e3cd37</td>\n",
              "      <td>library_0</td>\n",
              "      <td>plate_3</td>\n",
              "      <td>D4</td>\n",
              "      <td>D</td>\n",
              "      <td>4</td>\n",
              "      <td>PBMC</td>\n",
              "      <td>donor_1</td>\n",
              "      <td>T cells CD4+</td>\n",
              "      <td>LSM-46203</td>\n",
              "      <td>BMS-265246</td>\n",
              "      <td>CCCCOc1c(C(=O)c2c(F)cc(C)cc2F)cnc2[nH]ncc12</td>\n",
              "      <td>1.0</td>\n",
              "      <td>24</td>\n",
              "      <td>False</td>\n",
              "    </tr>\n",
              "    <tr>\n",
              "      <th>2</th>\n",
              "      <td>0001533c5e876362</td>\n",
              "      <td>library_2</td>\n",
              "      <td>plate_0</td>\n",
              "      <td>B11</td>\n",
              "      <td>B</td>\n",
              "      <td>11</td>\n",
              "      <td>PBMC</td>\n",
              "      <td>donor_0</td>\n",
              "      <td>T regulatory cells</td>\n",
              "      <td>LSM-45663</td>\n",
              "      <td>Resminostat</td>\n",
              "      <td>CN(C)Cc1ccc(S(=O)(=O)n2ccc(/C=C/C(=O)NO)c2)cc1</td>\n",
              "      <td>1.0</td>\n",
              "      <td>24</td>\n",
              "      <td>False</td>\n",
              "    </tr>\n",
              "    <tr>\n",
              "      <th>3</th>\n",
              "      <td>00022f989630d14b</td>\n",
              "      <td>library_35</td>\n",
              "      <td>plate_2</td>\n",
              "      <td>E6</td>\n",
              "      <td>E</td>\n",
              "      <td>6</td>\n",
              "      <td>PBMC</td>\n",
              "      <td>donor_0</td>\n",
              "      <td>T cells CD4+</td>\n",
              "      <td>LSM-43216</td>\n",
              "      <td>FK 866</td>\n",
              "      <td>O=C(/C=C/c1cccnc1)NCCCCC1CCN(C(=O)c2ccccc2)CC1</td>\n",
              "      <td>1.0</td>\n",
              "      <td>24</td>\n",
              "      <td>False</td>\n",
              "    </tr>\n",
              "    <tr>\n",
              "      <th>4</th>\n",
              "      <td>0002560bd38ce03e</td>\n",
              "      <td>library_22</td>\n",
              "      <td>plate_4</td>\n",
              "      <td>B6</td>\n",
              "      <td>B</td>\n",
              "      <td>6</td>\n",
              "      <td>PBMC</td>\n",
              "      <td>donor_2</td>\n",
              "      <td>T cells CD4+</td>\n",
              "      <td>LSM-1099</td>\n",
              "      <td>Nilotinib</td>\n",
              "      <td>Cc1cn(-c2cc(NC(=O)c3ccc(C)c(Nc4nccc(-c5cccnc5)...</td>\n",
              "      <td>1.0</td>\n",
              "      <td>24</td>\n",
              "      <td>False</td>\n",
              "    </tr>\n",
              "  </tbody>\n",
              "</table>\n",
              "</div>"
            ],
            "text/plain": [
              "             obs_id  library_id plate_name well row  col cell_id donor_id  \\\n",
              "0  000006a87ba75b72   library_4    plate_4   F7   F    7    PBMC  donor_2   \n",
              "1  0000233976e3cd37   library_0    plate_3   D4   D    4    PBMC  donor_1   \n",
              "2  0001533c5e876362   library_2    plate_0  B11   B   11    PBMC  donor_0   \n",
              "3  00022f989630d14b  library_35    plate_2   E6   E    6    PBMC  donor_0   \n",
              "4  0002560bd38ce03e  library_22    plate_4   B6   B    6    PBMC  donor_2   \n",
              "\n",
              "            cell_type sm_lincs_id      sm_name  \\\n",
              "0        T cells CD4+    LSM-4944     MLN 2238   \n",
              "1        T cells CD4+   LSM-46203   BMS-265246   \n",
              "2  T regulatory cells   LSM-45663  Resminostat   \n",
              "3        T cells CD4+   LSM-43216       FK 866   \n",
              "4        T cells CD4+    LSM-1099    Nilotinib   \n",
              "\n",
              "                                              SMILES  dose_uM  timepoint_hr  \\\n",
              "0      CC(C)C[C@H](NC(=O)CNC(=O)c1cc(Cl)ccc1Cl)B(O)O      1.0            24   \n",
              "1        CCCCOc1c(C(=O)c2c(F)cc(C)cc2F)cnc2[nH]ncc12      1.0            24   \n",
              "2     CN(C)Cc1ccc(S(=O)(=O)n2ccc(/C=C/C(=O)NO)c2)cc1      1.0            24   \n",
              "3     O=C(/C=C/c1cccnc1)NCCCCC1CCN(C(=O)c2ccccc2)CC1      1.0            24   \n",
              "4  Cc1cn(-c2cc(NC(=O)c3ccc(C)c(Nc4nccc(-c5cccnc5)...      1.0            24   \n",
              "\n",
              "   control  \n",
              "0    False  \n",
              "1    False  \n",
              "2    False  \n",
              "3    False  \n",
              "4    False  "
            ]
          },
          "execution_count": 2,
          "metadata": {},
          "output_type": "execute_result"
        }
      ],
      "source": [
        "df = pd.read_csv('data/adata_obs_meta.csv')\n",
        "df.head()"
      ]
    },
    {
      "cell_type": "code",
      "execution_count": 3,
      "metadata": {
        "colab": {
          "base_uri": "https://localhost:8080/"
        },
        "execution": {
          "iopub.execute_input": "2023-09-25T07:31:01.788721Z",
          "iopub.status.busy": "2023-09-25T07:31:01.788147Z",
          "iopub.status.idle": "2023-09-25T07:31:01.924699Z",
          "shell.execute_reply": "2023-09-25T07:31:01.923226Z",
          "shell.execute_reply.started": "2023-09-25T07:31:01.788686Z"
        },
        "executionInfo": {
          "elapsed": 3,
          "status": "ok",
          "timestamp": 1695710606674,
          "user": {
            "displayName": "",
            "userId": ""
          },
          "user_tz": -330
        },
        "id": "GkOofhArOCy5",
        "outputId": "e1c9eda1-9963-4adb-81ba-72463b5f2f77",
        "trusted": true
      },
      "outputs": [
        {
          "name": "stdout",
          "output_type": "stream",
          "text": [
            "Missing Values:\n",
            "obs_id          0\n",
            "library_id      0\n",
            "plate_name      0\n",
            "well            0\n",
            "row             0\n",
            "col             0\n",
            "cell_id         0\n",
            "donor_id        0\n",
            "cell_type       0\n",
            "sm_lincs_id     0\n",
            "sm_name         0\n",
            "SMILES          0\n",
            "dose_uM         0\n",
            "timepoint_hr    0\n",
            "control         0\n",
            "dtype: int64\n"
          ]
        }
      ],
      "source": [
        "# Check for missing values\n",
        "missing_values = df.isnull().sum()\n",
        "print(\"Missing Values:\")\n",
        "print(missing_values)\n"
      ]
    },
    {
      "cell_type": "markdown",
      "metadata": {
        "id": "YbeEwTYLOCy5"
      },
      "source": [
        "# <div style=\"color:magenta;display:inline-block;border-radius:5px;background-color:#E6FFE6;font-family:Nexa;overflow:hidden\"><p style=\"padding:15px;color:magenta;overflow:hidden;font-size:90%;letter-spacing:0.5px;margin:0\"><b> </b> Exploratory Data Analysis (EDA)📊</p></div>"
      ]
    },
    {
      "cell_type": "code",
      "execution_count": 4,
      "metadata": {
        "_kg_hide-input": false,
        "colab": {
          "base_uri": "https://localhost:8080/",
          "height": 585
        },
        "execution": {
          "iopub.execute_input": "2023-09-25T07:31:05.993347Z",
          "iopub.status.busy": "2023-09-25T07:31:05.992952Z",
          "iopub.status.idle": "2023-09-25T07:31:06.647399Z",
          "shell.execute_reply": "2023-09-25T07:31:06.646269Z",
          "shell.execute_reply.started": "2023-09-25T07:31:05.993317Z"
        },
        "executionInfo": {
          "elapsed": 3147,
          "status": "ok",
          "timestamp": 1695710609819,
          "user": {
            "displayName": "",
            "userId": ""
          },
          "user_tz": -330
        },
        "id": "SAnyb48mOCy6",
        "outputId": "c66d31f7-c118-4b4d-b686-08084947d66a",
        "trusted": true
      },
      "outputs": [
        {
          "data": {
            "image/png": "[encoded data removed]",
            "text/plain": [
              "<Figure size 1000x600 with 1 Axes>"
            ]
          },
          "metadata": {},
          "output_type": "display_data"
        }
      ],
      "source": [
        "# Count plot for 'donor_id'\n",
        "plt.figure(figsize=(10, 6))\n",
        "sns.countplot(data=df, x='donor_id', palette='Set3')\n",
        "plt.title(\"Distribution of Donors\",fontsize = 15, fontweight = 'bold', color = 'magenta')\n",
        "plt.xlabel(\"Donor ID\",fontsize = 12, fontweight = 'bold', color = 'darkblue')\n",
        "plt.ylabel(\"Frequency\",fontsize = 12, fontweight = 'bold', color = 'darkblue')\n",
        "plt.xticks(rotation=45)\n",
        "plt.savefig('Distribution of Donors.png')\n",
        "plt.show()"
      ]
    },
    {
      "cell_type": "markdown",
      "metadata": {
        "id": "fFJFA-yvOCy6"
      },
      "source": [
        "🟧 This plot displays the frequency of each donor in the dataset. Each bar represents a different donor, and the height of the bar indicates how many samples belong to each donor.\n",
        "\n",
        "🟧 This visualization will give you an overview of how the samples are distributed across different donors in your dataset."
      ]
    },
    {
      "cell_type": "code",
      "execution_count": 5,
      "metadata": {
        "colab": {
          "base_uri": "https://localhost:8080/",
          "height": 541
        },
        "execution": {
          "iopub.execute_input": "2023-09-25T07:31:11.935812Z",
          "iopub.status.busy": "2023-09-25T07:31:11.935119Z",
          "iopub.status.idle": "2023-09-25T07:31:12.633230Z",
          "shell.execute_reply": "2023-09-25T07:31:12.631686Z",
          "shell.execute_reply.started": "2023-09-25T07:31:11.935778Z"
        },
        "executionInfo": {
          "elapsed": 15,
          "status": "ok",
          "timestamp": 1695710609819,
          "user": {
            "displayName": "",
            "userId": ""
          },
          "user_tz": -330
        },
        "id": "696ocm-uOCy6",
        "outputId": "4849a2ee-6149-4be1-e7c4-ebe0329a1562",
        "trusted": true
      },
      "outputs": [
        {
          "data": {
            "image/png": "[encoded data removed]",
            "text/plain": [
              "<Figure size 1000x600 with 1 Axes>"
            ]
          },
          "metadata": {},
          "output_type": "display_data"
        }
      ],
      "source": [
        "#sns.set_theme(style=\"whitegrid\")\n",
        "\n",
        "# Histogram for 'dose_uM'\n",
        "plt.figure(figsize=(10, 6))\n",
        "sns.histplot(data=df, x='dose_uM', bins=20, color='skyblue')\n",
        "plt.title(\"Distribution of Dose (uM)\",fontsize = 15, fontweight = 'bold', color = 'magenta')\n",
        "plt.xlabel(\"Dose (uM)\",fontsize = 12, fontweight = 'bold', color = 'darkblue')\n",
        "plt.ylabel(\"Frequency\",fontsize = 12, fontweight = 'bold', color = 'darkblue')\n",
        "plt.savefig('Distribution of Dose (uM).png')\n",
        "plt.show()"
      ]
    },
    {
      "cell_type": "markdown",
      "metadata": {
        "id": "4neNgyJCOCy9"
      },
      "source": [
        "🟧 This plot shows the distribution of doses (in uM). It gives an idea of how the doses are spread across the dataset.\n"
      ]
    },
    {
      "cell_type": "code",
      "execution_count": 6,
      "metadata": {
        "colab": {
          "base_uri": "https://localhost:8080/",
          "height": 563
        },
        "execution": {
          "iopub.execute_input": "2023-09-25T07:31:40.617281Z",
          "iopub.status.busy": "2023-09-25T07:31:40.616852Z",
          "iopub.status.idle": "2023-09-25T07:31:40.992815Z",
          "shell.execute_reply": "2023-09-25T07:31:40.991550Z",
          "shell.execute_reply.started": "2023-09-25T07:31:40.617247Z"
        },
        "executionInfo": {
          "elapsed": 14,
          "status": "ok",
          "timestamp": 1695710609820,
          "user": {
            "displayName": "",
            "userId": ""
          },
          "user_tz": -330
        },
        "id": "AY0RUiH6OCy-",
        "outputId": "0f480605-9b19-4ad9-81ee-10bd05389ac7",
        "trusted": true
      },
      "outputs": [
        {
          "data": {
            "image/png": "[encoded data removed]",
            "text/plain": [
              "<Figure size 1000x600 with 1 Axes>"
            ]
          },
          "metadata": {},
          "output_type": "display_data"
        }
      ],
      "source": [
        "# Bar plot for 'timepoint_hr'\n",
        "plt.figure(figsize=(10, 6))\n",
        "sns.barplot(data=df, x='timepoint_hr', y='dose_uM', errorbar=None, palette='viridis')\n",
        "plt.title(\"Average Dose (uM) at Different Timepoints\",fontsize = 15, fontweight = 'bold', color = 'magenta')\n",
        "plt.xlabel(\"Timepoint (hours)\",fontsize = 12, fontweight = 'bold', color = 'darkblue')\n",
        "plt.ylabel(\"Average Dose (uM)\",fontsize = 12, fontweight = 'bold', color = 'darkblue')\n",
        "plt.savefig('Average Dose (uM) at Different Timepoints.png')\n",
        "plt.show()"
      ]
    },
    {
      "cell_type": "markdown",
      "metadata": {
        "id": "-Yavvb1GOCy-"
      },
      "source": [
        "🟧 This plot displays the average dose (in uM) at different timepoints. It helps visualize how doses vary with time."
      ]
    },
    {
      "cell_type": "code",
      "execution_count": 7,
      "metadata": {
        "colab": {
          "base_uri": "https://localhost:8080/",
          "height": 516
        },
        "execution": {
          "iopub.execute_input": "2023-09-25T07:31:45.687657Z",
          "iopub.status.busy": "2023-09-25T07:31:45.687158Z",
          "iopub.status.idle": "2023-09-25T07:31:46.319546Z",
          "shell.execute_reply": "2023-09-25T07:31:46.318426Z",
          "shell.execute_reply.started": "2023-09-25T07:31:45.687620Z"
        },
        "executionInfo": {
          "elapsed": 909,
          "status": "ok",
          "timestamp": 1695710611619,
          "user": {
            "displayName": "",
            "userId": ""
          },
          "user_tz": -330
        },
        "id": "dSWfw1TsOCy-",
        "outputId": "3b32d8ca-6943-4e03-c7f4-7c57e8255ef4",
        "trusted": true
      },
      "outputs": [
        {
          "data": {
            "image/png": "[encoded data removed]",
            "text/plain": [
              "<Figure size 1000x600 with 1 Axes>"
            ]
          },
          "metadata": {},
          "output_type": "display_data"
        }
      ],
      "source": [
        "# Box plot for 'dose_uM'\n",
        "plt.figure(figsize=(10, 6))\n",
        "sns.boxplot(data=df, y='dose_uM', color='lightcoral')\n",
        "plt.title(\"Distribution of Dose (uM)\",fontsize = 15, fontweight = 'bold', color = 'magenta')\n",
        "plt.ylabel(\"Dose (uM)\",fontsize = 12, fontweight = 'bold', color = 'darkblue')\n",
        "plt.savefig('Distribution of Dose (uM).png')\n",
        "plt.show()"
      ]
    },
    {
      "cell_type": "markdown",
      "metadata": {
        "id": "ZdCuqIGkOCy-"
      },
      "source": [
        "🟧 The plot provides a summary of the distribution of doses, showing quartiles, median, and any potential outliers.\n"
      ]
    },
    {
      "cell_type": "code",
      "execution_count": 8,
      "metadata": {
        "colab": {
          "base_uri": "https://localhost:8080/",
          "height": 416
        },
        "execution": {
          "iopub.execute_input": "2023-09-25T07:31:50.160152Z",
          "iopub.status.busy": "2023-09-25T07:31:50.159310Z",
          "iopub.status.idle": "2023-09-25T07:31:56.005006Z",
          "shell.execute_reply": "2023-09-25T07:31:56.003689Z",
          "shell.execute_reply.started": "2023-09-25T07:31:50.160116Z"
        },
        "executionInfo": {
          "elapsed": 9487,
          "status": "ok",
          "timestamp": 1695710624721,
          "user": {
            "displayName": "",
            "userId": ""
          },
          "user_tz": -330
        },
        "id": "MvzVPqR5OCy-",
        "outputId": "c34f41e1-dee6-45f8-a8ed-a3e3700cf293",
        "trusted": true
      },
      "outputs": [
        {
          "data": {
            "image/png": "[encoded data removed]",
            "text/plain": [
              "<Figure size 400x400 with 6 Axes>"
            ]
          },
          "metadata": {},
          "output_type": "display_data"
        }
      ],
      "source": [
        "# Pair plot for 'dose_uM' and 'timepoint_hr'\n",
        "sns.pairplot(df[['dose_uM', 'timepoint_hr']], height=2, diag_kind='kde', palette='plasma')\n",
        "plt.suptitle(\"Dose (uM) and Timepoint (hours)\",fontsize = 15, fontweight = 'bold', color = 'magenta')\n",
        "plt.savefig('Dose (uM) and Timepoint (hours).png')\n",
        "plt.show()"
      ]
    },
    {
      "cell_type": "markdown",
      "metadata": {
        "id": "fjvSNQ_ZOCy_"
      },
      "source": [
        "🟧 This plot displays the relationships and distributions of 'dose_uM' and 'timepoint_hr'. The diagonal shows kernel density estimates.\n"
      ]
    },
    {
      "cell_type": "code",
      "execution_count": 9,
      "metadata": {
        "colab": {
          "base_uri": "https://localhost:8080/",
          "height": 499
        },
        "execution": {
          "iopub.execute_input": "2023-09-25T07:32:00.836498Z",
          "iopub.status.busy": "2023-09-25T07:32:00.835787Z",
          "iopub.status.idle": "2023-09-25T07:32:01.501563Z",
          "shell.execute_reply": "2023-09-25T07:32:01.500334Z",
          "shell.execute_reply.started": "2023-09-25T07:32:00.836461Z"
        },
        "executionInfo": {
          "elapsed": 4,
          "status": "ok",
          "timestamp": 1695710627492,
          "user": {
            "displayName": "",
            "userId": ""
          },
          "user_tz": -330
        },
        "id": "KlgpD8DlOCy_",
        "outputId": "cc781c7a-bf8b-4654-f7f5-77e13a469e27",
        "trusted": true
      },
      "outputs": [
        {
          "data": {
            "image/png": "[encoded data removed]",
            "text/plain": [
              "<Figure size 1000x600 with 1 Axes>"
            ]
          },
          "metadata": {},
          "output_type": "display_data"
        }
      ],
      "source": [
        "# Count plot for 'cell_type'\n",
        "plt.figure(figsize=(10, 6))\n",
        "sns.countplot(data=df, y='cell_type', palette='pastel')\n",
        "plt.title(\"Distribution of Cell Types\",fontsize = 15, fontweight = 'bold', color = 'magenta')\n",
        "plt.xlabel(\"Frequency\",fontsize = 12, fontweight = 'bold', color = 'darkblue')\n",
        "plt.ylabel(\"Cell Type\",fontsize = 12, fontweight = 'bold', color = 'darkblue')\n",
        "plt.savefig('Distribution of Cell Types.png')\n",
        "plt.show()\n"
      ]
    },
    {
      "cell_type": "markdown",
      "metadata": {
        "id": "S5lJYqOxOCy_"
      },
      "source": [
        "🟧 This plot counts the occurrences of each cell type, giving an overview of the distribution of cell types in the dataset.\n",
        "Heatmap for correlations:"
      ]
    },
    {
      "cell_type": "code",
      "execution_count": 10,
      "metadata": {
        "colab": {
          "base_uri": "https://localhost:8080/",
          "height": 551
        },
        "execution": {
          "iopub.execute_input": "2023-09-25T07:32:06.943780Z",
          "iopub.status.busy": "2023-09-25T07:32:06.943392Z",
          "iopub.status.idle": "2023-09-25T07:32:07.482762Z",
          "shell.execute_reply": "2023-09-25T07:32:07.481634Z",
          "shell.execute_reply.started": "2023-09-25T07:32:06.943746Z"
        },
        "executionInfo": {
          "elapsed": 2993,
          "status": "ok",
          "timestamp": 1695710638600,
          "user": {
            "displayName": "",
            "userId": ""
          },
          "user_tz": -330
        },
        "id": "1xomBWjFOCy_",
        "outputId": "6ed7ed8a-fbf4-4488-abb2-84d1e3ffead0",
        "trusted": true
      },
      "outputs": [
        {
          "data": {
            "image/png": "[encoded data removed]",
            "text/plain": [
              "<Figure size 800x600 with 2 Axes>"
            ]
          },
          "metadata": {},
          "output_type": "display_data"
        }
      ],
      "source": [
        "# Heatmap for correlations\n",
        "correlation_matrix = df[['dose_uM', 'timepoint_hr']].corr()\n",
        "plt.figure(figsize=(8, 6))\n",
        "sns.heatmap(correlation_matrix, annot=True, cmap='coolwarm')\n",
        "plt.title(\"Correlation Heatmap\",fontsize = 15, fontweight = 'bold', color = 'magenta')\n",
        "plt.savefig('Correlation Heatmap.png')\n",
        "plt.show()"
      ]
    },
    {
      "cell_type": "markdown",
      "metadata": {
        "id": "pRarkGrJOCzA"
      },
      "source": [
        "🟧 This heatmap visualizes the correlation between 'dose_uM' and 'timepoint_hr'. Values closer to 1 indicate a stronger positive correlation.\n"
      ]
    },
    {
      "cell_type": "code",
      "execution_count": 11,
      "metadata": {
        "colab": {
          "base_uri": "https://localhost:8080/",
          "height": 677
        },
        "execution": {
          "iopub.execute_input": "2023-09-25T07:32:11.741170Z",
          "iopub.status.busy": "2023-09-25T07:32:11.740802Z",
          "iopub.status.idle": "2023-09-25T07:32:11.992368Z",
          "shell.execute_reply": "2023-09-25T07:32:11.991188Z",
          "shell.execute_reply.started": "2023-09-25T07:32:11.741142Z"
        },
        "executionInfo": {
          "elapsed": 9,
          "status": "ok",
          "timestamp": 1695710638601,
          "user": {
            "displayName": "",
            "userId": ""
          },
          "user_tz": -330
        },
        "id": "z1SnPZBWOCzA",
        "outputId": "3ac81fad-0dfb-438f-bd67-bf87847a533e",
        "trusted": true
      },
      "outputs": [
        {
          "data": {
            "image/png": "[encoded data removed]",
            "text/plain": [
              "<Figure size 800x800 with 1 Axes>"
            ]
          },
          "metadata": {},
          "output_type": "display_data"
        }
      ],
      "source": [
        "# Pie chart for 'control'\n",
        "control_counts = df['control'].value_counts()\n",
        "plt.figure(figsize=(8, 8))\n",
        "plt.pie(control_counts, labels=control_counts.index, autopct='%1.1f%%', colors=['#ff9999','#66b3ff'])\n",
        "plt.title(\"Control Distribution\",fontsize = 15, fontweight = 'bold', color = 'magenta')\n",
        "plt.savefig('Control Distribution.png')\n",
        "plt.show()"
      ]
    },
    {
      "cell_type": "markdown",
      "metadata": {
        "id": "xR5eVcC9OCzA"
      },
      "source": [
        "🟧 The pie chart displays the distribution of 'control' values (True or False) as a percentage of the total.\n"
      ]
    },
    {
      "cell_type": "code",
      "execution_count": 12,
      "metadata": {
        "colab": {
          "base_uri": "https://localhost:8080/",
          "height": 556
        },
        "execution": {
          "iopub.execute_input": "2023-09-25T07:32:19.635621Z",
          "iopub.status.busy": "2023-09-25T07:32:19.634762Z",
          "iopub.status.idle": "2023-09-25T07:32:36.230762Z",
          "shell.execute_reply": "2023-09-25T07:32:36.229416Z",
          "shell.execute_reply.started": "2023-09-25T07:32:19.635584Z"
        },
        "executionInfo": {
          "elapsed": 20752,
          "status": "ok",
          "timestamp": 1695710659345,
          "user": {
            "displayName": "",
            "userId": ""
          },
          "user_tz": -330
        },
        "id": "ozMg9gW-OCzA",
        "outputId": "22da0728-a598-4224-f3d9-82b502dad1e6",
        "trusted": true
      },
      "outputs": [
        {
          "data": {
            "image/png": "[encoded data removed]",
            "text/plain": [
              "<Figure size 1000x600 with 1 Axes>"
            ]
          },
          "metadata": {},
          "output_type": "display_data"
        }
      ],
      "source": [
        "# Scatter plot for 'dose_uM' vs 'timepoint_hr'\n",
        "plt.figure(figsize=(10, 6))\n",
        "sns.scatterplot(data=df, x='dose_uM', y='timepoint_hr', hue='control', palette='viridis')\n",
        "plt.title(\"Dose (uM) vs Timepoint (hours)\",fontsize = 15, fontweight = 'bold', color = 'magenta')\n",
        "plt.xlabel(\"Dose (uM)\",fontsize = 12, fontweight = 'bold', color = 'darkblue')\n",
        "plt.ylabel(\"Timepoint (hours)\",fontsize = 12, fontweight = 'bold', color = 'darkblue')\n",
        "plt.savefig('Dose (uM) vs Timepoint (hours).png')\n",
        "plt.show()\n"
      ]
    },
    {
      "cell_type": "markdown",
      "metadata": {
        "id": "K4kOoPs2OCzA"
      },
      "source": [
        "🟧 This scatter plot visualizes the relationship between 'dose_uM' and 'timepoint_hr'. Different colors represent different control values.\n"
      ]
    },
    {
      "cell_type": "code",
      "execution_count": 13,
      "metadata": {
        "colab": {
          "base_uri": "https://localhost:8080/",
          "height": 556
        },
        "execution": {
          "iopub.execute_input": "2023-09-25T07:32:47.793732Z",
          "iopub.status.busy": "2023-09-25T07:32:47.792901Z",
          "iopub.status.idle": "2023-09-25T07:32:48.438112Z",
          "shell.execute_reply": "2023-09-25T07:32:48.436976Z",
          "shell.execute_reply.started": "2023-09-25T07:32:47.793686Z"
        },
        "executionInfo": {
          "elapsed": 24,
          "status": "ok",
          "timestamp": 1695710659347,
          "user": {
            "displayName": "",
            "userId": ""
          },
          "user_tz": -330
        },
        "id": "LcfwrqCIOCzB",
        "outputId": "e3b88531-c08c-4848-a395-f66ed9bddb25",
        "trusted": true
      },
      "outputs": [
        {
          "data": {
            "image/png": "[encoded data removed]",
            "text/plain": [
              "<Figure size 1000x600 with 1 Axes>"
            ]
          },
          "metadata": {},
          "output_type": "display_data"
        }
      ],
      "source": [
        "# Violin plot for 'dose_uM' by 'control'\n",
        "plt.figure(figsize=(10, 6))\n",
        "sns.violinplot(data=df, x='control', y='dose_uM', palette='husl')\n",
        "plt.title(\"Dose (uM) by Control\",fontsize = 15, fontweight = 'bold', color = 'magenta')\n",
        "plt.xlabel(\"Control\",fontsize = 12, fontweight = 'bold', color = 'darkblue')\n",
        "plt.ylabel(\"Dose (uM)\",fontsize = 12, fontweight = 'bold', color = 'darkblue')\n",
        "plt.savefig('Dose (uM) by Control.png')\n",
        "plt.show()\n"
      ]
    },
    {
      "cell_type": "markdown",
      "metadata": {
        "id": "onW1dCEbOCzB"
      },
      "source": [
        "🟧 This plot shows the distribution of doses for each control category, allowing for a comparison of distributions.\n"
      ]
    },
    {
      "cell_type": "markdown",
      "metadata": {
        "id": "q18gXHq7OCzB"
      },
      "source": [
        "# <div style=\"color:magenta;display:inline-block;border-radius:5px;background-color:#E6FFE6;font-family:Nexa;overflow:hidden\"><p style=\"padding:15px;color:magenta;overflow:hidden;font-size:90%;letter-spacing:0.5px;margin:0\"><b> </b>Feature Extraction</p></div>\n",
        "\n",
        "\n",
        "🟦 Convert SMILES strings into a numerical representation suitable for T-SNE and PCA. For simplicity, we'll use Morgan fingerprints.\n",
        "\n",
        "<h2 style=\"color: #4CAF50;\">Morgan Fingerprints</h2>\n",
        "<p style=\"color: darkblue; font-size: 16px;\">Morgan fingerprints,also known as circular fingerprints or Extended Connectivity Fingerprints (ECFP), are a type of molecular representation used in chemoinformatics and computational chemistry. They encode information about the structural features of a molecule.</p>\n",
        "\n",
        "<p style=\"color: darkblue; font-size: 16px;\">Specifically, Morgan fingerprints are generated by considering the presence or absence of substructures (circular substructures or \"ECFP\" refers to Extended Connectivity of Functional Groups) within a certain radius around each atom in a molecule. The result is a fixed-length binary vector (bitstring) that encodes the presence or absence of specific substructures.</p>\n",
        "\n",
        "<p style=\"color: darkblue; font-size: 16px;\">These fingerprints are widely used in tasks such as similarity searching, compound clustering, and machine learning-based predictive modeling in the field of chemoinformatics. They are popular because they can be used to represent molecules in a format suitable for machine learning algorithms.</p>\n",
        "\n",
        "<p style=\"color: darkblue; font-size: 16px;\">The radius parameter in Morgan fingerprints determines how many bonds away from each atom the algorithm considers when generating the fingerprints. Larger radii capture more global structural information, but also result in longer fingerprint vectors.</p>\n",
        "\n",
        "<p style=\"color: darkblue; font-size: 16px;\">In summary, Morgan fingerprints are a way to represent the structural features of a molecule in a format suitable for computational analysis and machine learning applications in chemistry and drug discovery.</p>\n"
      ]
    },
    {
      "cell_type": "markdown",
      "metadata": {
        "id": "lP_hlImxOCzB"
      },
      "source": [
        "<html>\n",
        "<body>\n",
        "    <span style=\"color: blue; font-weight: bold; font-size: 20px;\">T-SNE Visualization:</span>\n",
        "    <ol>\n",
        "       <li style=\"color: purple; font-size: 18px;\">Apply T-SNE to the features for dimensionality reduction and visualization.\n",
        "</li>\n",
        "    </ol>\n",
        "\n",
        "\n"
      ]
    },
    {
      "cell_type": "code",
      "execution_count": 15,
      "metadata": {
        "execution": {
          "iopub.execute_input": "2023-09-25T07:32:55.898590Z",
          "iopub.status.busy": "2023-09-25T07:32:55.898164Z",
          "iopub.status.idle": "2023-09-25T07:34:14.880694Z",
          "shell.execute_reply": "2023-09-25T07:34:14.879532Z",
          "shell.execute_reply.started": "2023-09-25T07:32:55.898557Z"
        },
        "executionInfo": {
          "elapsed": 76752,
          "status": "ok",
          "timestamp": 1695710736081,
          "user": {
            "displayName": "",
            "userId": ""
          },
          "user_tz": -330
        },
        "id": "45WaHshIOCzB",
        "trusted": true
      },
      "outputs": [],
      "source": [
        "# Feature Extraction (Morgan Fingerprints)\n",
        "df['Morgan_Fingerprints'] = df['SMILES'].apply(lambda x: AllChem.GetMorganFingerprintAsBitVect(Chem.MolFromSmiles(x), 2, nBits=1024))\n"
      ]
    },
    {
      "cell_type": "code",
      "execution_count": 20,
      "metadata": {
        "executionInfo": {
          "elapsed": 5,
          "status": "ok",
          "timestamp": 1695710736082,
          "user": {
            "displayName": "",
            "userId": ""
          },
          "user_tz": -330
        },
        "id": "Cz0YUE3OOCzB",
        "trusted": true
      },
      "outputs": [],
      "source": [
        "# Convert 'Morgan_Fingerprints' to a NumPy array\n",
        "#import numpy as np\n",
        "#fingerprints_array = np.array(df['Morgan_Fingerprints'].tolist())\n",
        "\n",
        "# T-SNE Visualization\n",
        "#tsne = TSNE(n_components=2, random_state=42)\n",
        "#features_tsne = tsne.fit_transform(fingerprints_array)\n",
        "\n",
        "#plt.figure(figsize=(10, 6))\n",
        "#sns.scatterplot(x=features_tsne[:, 0], y=features_tsne[:, 1])\n",
        "#plt.title(\"T-SNE Visualization\", fontweight = 'bold', color = 'magenta')\n",
        "#plt.savefig('T-SNE Visualization.png')\n",
        "#plt.show()"
      ]
    },
    {
      "cell_type": "markdown",
      "metadata": {
        "id": "5DpuE0iEOCzB"
      },
      "source": [
        "<html>\n",
        "<body>\n",
        "    <span style=\"color: blue; font-weight: bold; font-size: 20px;\">PCA Visualization:</span>\n",
        "    <ol>\n",
        "       <li style=\"color: purple; font-size: 18px;\">Apply PCA to the features for dimensionality reduction and visualization.\n",
        "</li>\n",
        "    </ol>"
      ]
    },
    {
      "cell_type": "code",
      "execution_count": 16,
      "metadata": {
        "colab": {
          "base_uri": "https://localhost:8080/",
          "height": 547
        },
        "execution": {
          "iopub.execute_input": "2023-09-25T07:34:20.459849Z",
          "iopub.status.busy": "2023-09-25T07:34:20.459351Z",
          "iopub.status.idle": "2023-09-25T07:43:15.237080Z",
          "shell.execute_reply": "2023-09-25T07:43:15.235786Z",
          "shell.execute_reply.started": "2023-09-25T07:34:20.459807Z"
        },
        "executionInfo": {
          "elapsed": 431405,
          "status": "ok",
          "timestamp": 1695711167484,
          "user": {
            "displayName": "",
            "userId": ""
          },
          "user_tz": -330
        },
        "id": "Pe0uLhKMOCzC",
        "outputId": "e84dc810-3bd2-408a-edd4-8304e6fade23",
        "trusted": true
      },
      "outputs": [
        {
          "data": {
            "image/png": "[encoded data removed]",
            "text/plain": [
              "<Figure size 1000x600 with 1 Axes>"
            ]
          },
          "metadata": {},
          "output_type": "display_data"
        }
      ],
      "source": [
        "# PCA Visualization\n",
        "pca = PCA(n_components=2, random_state=42)\n",
        "features_pca = pca.fit_transform(list(df['Morgan_Fingerprints']))\n",
        "\n",
        "plt.figure(figsize=(10, 6))\n",
        "sns.scatterplot(x=features_pca[:, 0], y=features_pca[:, 1])\n",
        "plt.title(\"PCA Visualization\", fontweight = 'bold', color = 'magenta')\n",
        "plt.savefig('PCA Visualization.png')\n",
        "plt.show()\n"
      ]
    },
    {
      "cell_type": "markdown",
      "metadata": {
        "id": "nadrElW2OCzC"
      },
      "source": [
        "<html>\n",
        "<body>\n",
        "    <span style=\"color: blue; font-weight: bold; font-size: 20px;\">Molecule Visualizations:</span>\n",
        "    <ol>\n",
        "       <li style=\"color: purple; font-size: 18px;\">Generate images for a subset of molecules using RDKit.\n",
        "</li>\n",
        "    </ol>\n"
      ]
    },
    {
      "cell_type": "code",
      "execution_count": 17,
      "metadata": {
        "colab": {
          "base_uri": "https://localhost:8080/",
          "height": 1000
        },
        "execution": {
          "iopub.execute_input": "2023-09-25T07:43:29.921752Z",
          "iopub.status.busy": "2023-09-25T07:43:29.921338Z",
          "iopub.status.idle": "2023-09-25T07:44:23.039086Z",
          "shell.execute_reply": "2023-09-25T07:44:23.038262Z",
          "shell.execute_reply.started": "2023-09-25T07:43:29.921718Z"
        },
        "executionInfo": {
          "elapsed": 48273,
          "status": "ok",
          "timestamp": 1695711215751,
          "user": {
            "displayName": "",
            "userId": ""
          },
          "user_tz": -330
        },
        "id": "vB4_fNFVOCzC",
        "outputId": "b94beb5f-db56-480c-af00-8a1dc0669425",
        "trusted": true
      },
      "outputs": [
        {
          "data": {
            "image/png": "[encoded data removed]",
            "text/plain": [
              "<PIL.PngImagePlugin.PngImageFile image mode=RGB size=300x300>"
            ]
          },
          "metadata": {},
          "output_type": "display_data"
        },
        {
          "data": {
            "image/png": "[encoded data removed]",
            "text/plain": [
              "<PIL.PngImagePlugin.PngImageFile image mode=RGB size=300x300>"
            ]
          },
          "metadata": {},
          "output_type": "display_data"
        },
        {
          "data": {
            "image/png": "[encoded data removed]",
            "text/plain": [
              "<PIL.PngImagePlugin.PngImageFile image mode=RGB size=300x300>"
            ]
          },
          "metadata": {},
          "output_type": "display_data"
        },
        {
          "data": {
            "image/png": "[encoded data removed]",
            "text/plain": [
              "<PIL.PngImagePlugin.PngImageFile image mode=RGB size=300x300>"
            ]
          },
          "metadata": {},
          "output_type": "display_data"
        }
      ],
      "source": [
        "# Add a new column 'Molecule' with RDKit Mol objects\n",
        "df['Molecule'] = df['SMILES'].apply(Chem.MolFromSmiles)\n",
        "\n",
        "# Visualize a subset of molecules\n",
        "sample_molecules = df['Molecule'].sample(4)  # Change 5 to the desired number of molecules to visualize\n",
        "\n",
        "for mol in sample_molecules:\n",
        "    img = Draw.MolToImage(mol)\n",
        "    display(img)"
      ]
    },
    {
      "cell_type": "code",
      "execution_count": 18,
      "metadata": {
        "colab": {
          "base_uri": "https://localhost:8080/",
          "height": 399
        },
        "execution": {
          "iopub.execute_input": "2023-09-25T07:44:31.378680Z",
          "iopub.status.busy": "2023-09-25T07:44:31.378002Z",
          "iopub.status.idle": "2023-09-25T07:44:31.409442Z",
          "shell.execute_reply": "2023-09-25T07:44:31.408415Z",
          "shell.execute_reply.started": "2023-09-25T07:44:31.378642Z"
        },
        "executionInfo": {
          "elapsed": 12,
          "status": "ok",
          "timestamp": 1695711215752,
          "user": {
            "displayName": "",
            "userId": ""
          },
          "user_tz": -330
        },
        "id": "BQEmfvIWOCzC",
        "outputId": "59c01c0b-b615-4527-a829-5f97188107cb",
        "trusted": true
      },
      "outputs": [
        {
          "data": {
            "text/html": [
              "<div>\n",
              "<style scoped>\n",
              "    .dataframe tbody tr th:only-of-type {\n",
              "        vertical-align: middle;\n",
              "    }\n",
              "\n",
              "    .dataframe tbody tr th {\n",
              "        vertical-align: top;\n",
              "    }\n",
              "\n",
              "    .dataframe thead th {\n",
              "        text-align: right;\n",
              "    }\n",
              "</style>\n",
              "<table border=\"1\" class=\"dataframe\">\n",
              "  <thead>\n",
              "    <tr style=\"text-align: right;\">\n",
              "      <th></th>\n",
              "      <th>obs_id</th>\n",
              "      <th>library_id</th>\n",
              "      <th>plate_name</th>\n",
              "      <th>well</th>\n",
              "      <th>row</th>\n",
              "      <th>col</th>\n",
              "      <th>cell_id</th>\n",
              "      <th>donor_id</th>\n",
              "      <th>cell_type</th>\n",
              "      <th>sm_lincs_id</th>\n",
              "      <th>sm_name</th>\n",
              "      <th>SMILES</th>\n",
              "      <th>dose_uM</th>\n",
              "      <th>timepoint_hr</th>\n",
              "      <th>control</th>\n",
              "      <th>Morgan_Fingerprints</th>\n",
              "      <th>Molecule</th>\n",
              "    </tr>\n",
              "  </thead>\n",
              "  <tbody>\n",
              "    <tr>\n",
              "      <th>0</th>\n",
              "      <td>000006a87ba75b72</td>\n",
              "      <td>library_4</td>\n",
              "      <td>plate_4</td>\n",
              "      <td>F7</td>\n",
              "      <td>F</td>\n",
              "      <td>7</td>\n",
              "      <td>PBMC</td>\n",
              "      <td>donor_2</td>\n",
              "      <td>T cells CD4+</td>\n",
              "      <td>LSM-4944</td>\n",
              "      <td>MLN 2238</td>\n",
              "      <td>CC(C)C[C@H](NC(=O)CNC(=O)c1cc(Cl)ccc1Cl)B(O)O</td>\n",
              "      <td>1.0</td>\n",
              "      <td>24</td>\n",
              "      <td>False</td>\n",
              "      <td>[0, 1, 0, 0, 0, 0, 0, 0, 0, 0, 0, 0, 0, 0, 0, ...</td>\n",
              "      <td>&lt;rdkit.Chem.rdchem.Mol object at 0x00000254DEC...</td>\n",
              "    </tr>\n",
              "    <tr>\n",
              "      <th>1</th>\n",
              "      <td>0000233976e3cd37</td>\n",
              "      <td>library_0</td>\n",
              "      <td>plate_3</td>\n",
              "      <td>D4</td>\n",
              "      <td>D</td>\n",
              "      <td>4</td>\n",
              "      <td>PBMC</td>\n",
              "      <td>donor_1</td>\n",
              "      <td>T cells CD4+</td>\n",
              "      <td>LSM-46203</td>\n",
              "      <td>BMS-265246</td>\n",
              "      <td>CCCCOc1c(C(=O)c2c(F)cc(C)cc2F)cnc2[nH]ncc12</td>\n",
              "      <td>1.0</td>\n",
              "      <td>24</td>\n",
              "      <td>False</td>\n",
              "      <td>[0, 0, 0, 0, 0, 0, 0, 0, 0, 1, 0, 0, 0, 1, 0, ...</td>\n",
              "      <td>&lt;rdkit.Chem.rdchem.Mol object at 0x00000254DC1...</td>\n",
              "    </tr>\n",
              "    <tr>\n",
              "      <th>2</th>\n",
              "      <td>0001533c5e876362</td>\n",
              "      <td>library_2</td>\n",
              "      <td>plate_0</td>\n",
              "      <td>B11</td>\n",
              "      <td>B</td>\n",
              "      <td>11</td>\n",
              "      <td>PBMC</td>\n",
              "      <td>donor_0</td>\n",
              "      <td>T regulatory cells</td>\n",
              "      <td>LSM-45663</td>\n",
              "      <td>Resminostat</td>\n",
              "      <td>CN(C)Cc1ccc(S(=O)(=O)n2ccc(/C=C/C(=O)NO)c2)cc1</td>\n",
              "      <td>1.0</td>\n",
              "      <td>24</td>\n",
              "      <td>False</td>\n",
              "      <td>[0, 0, 0, 0, 0, 0, 0, 0, 0, 0, 0, 0, 0, 0, 0, ...</td>\n",
              "      <td>&lt;rdkit.Chem.rdchem.Mol object at 0x00000254DC1...</td>\n",
              "    </tr>\n",
              "    <tr>\n",
              "      <th>3</th>\n",
              "      <td>00022f989630d14b</td>\n",
              "      <td>library_35</td>\n",
              "      <td>plate_2</td>\n",
              "      <td>E6</td>\n",
              "      <td>E</td>\n",
              "      <td>6</td>\n",
              "      <td>PBMC</td>\n",
              "      <td>donor_0</td>\n",
              "      <td>T cells CD4+</td>\n",
              "      <td>LSM-43216</td>\n",
              "      <td>FK 866</td>\n",
              "      <td>O=C(/C=C/c1cccnc1)NCCCCC1CCN(C(=O)c2ccccc2)CC1</td>\n",
              "      <td>1.0</td>\n",
              "      <td>24</td>\n",
              "      <td>False</td>\n",
              "      <td>[0, 0, 0, 0, 0, 0, 0, 0, 0, 0, 0, 0, 0, 0, 0, ...</td>\n",
              "      <td>&lt;rdkit.Chem.rdchem.Mol object at 0x00000254DC1...</td>\n",
              "    </tr>\n",
              "    <tr>\n",
              "      <th>4</th>\n",
              "      <td>0002560bd38ce03e</td>\n",
              "      <td>library_22</td>\n",
              "      <td>plate_4</td>\n",
              "      <td>B6</td>\n",
              "      <td>B</td>\n",
              "      <td>6</td>\n",
              "      <td>PBMC</td>\n",
              "      <td>donor_2</td>\n",
              "      <td>T cells CD4+</td>\n",
              "      <td>LSM-1099</td>\n",
              "      <td>Nilotinib</td>\n",
              "      <td>Cc1cn(-c2cc(NC(=O)c3ccc(C)c(Nc4nccc(-c5cccnc5)...</td>\n",
              "      <td>1.0</td>\n",
              "      <td>24</td>\n",
              "      <td>False</td>\n",
              "      <td>[0, 0, 0, 0, 0, 0, 0, 0, 0, 0, 0, 0, 0, 0, 0, ...</td>\n",
              "      <td>&lt;rdkit.Chem.rdchem.Mol object at 0x00000254DC1...</td>\n",
              "    </tr>\n",
              "  </tbody>\n",
              "</table>\n",
              "</div>"
            ],
            "text/plain": [
              "             obs_id  library_id plate_name well row  col cell_id donor_id  \\\n",
              "0  000006a87ba75b72   library_4    plate_4   F7   F    7    PBMC  donor_2   \n",
              "1  0000233976e3cd37   library_0    plate_3   D4   D    4    PBMC  donor_1   \n",
              "2  0001533c5e876362   library_2    plate_0  B11   B   11    PBMC  donor_0   \n",
              "3  00022f989630d14b  library_35    plate_2   E6   E    6    PBMC  donor_0   \n",
              "4  0002560bd38ce03e  library_22    plate_4   B6   B    6    PBMC  donor_2   \n",
              "\n",
              "            cell_type sm_lincs_id      sm_name  \\\n",
              "0        T cells CD4+    LSM-4944     MLN 2238   \n",
              "1        T cells CD4+   LSM-46203   BMS-265246   \n",
              "2  T regulatory cells   LSM-45663  Resminostat   \n",
              "3        T cells CD4+   LSM-43216       FK 866   \n",
              "4        T cells CD4+    LSM-1099    Nilotinib   \n",
              "\n",
              "                                              SMILES  dose_uM  timepoint_hr  \\\n",
              "0      CC(C)C[C@H](NC(=O)CNC(=O)c1cc(Cl)ccc1Cl)B(O)O      1.0            24   \n",
              "1        CCCCOc1c(C(=O)c2c(F)cc(C)cc2F)cnc2[nH]ncc12      1.0            24   \n",
              "2     CN(C)Cc1ccc(S(=O)(=O)n2ccc(/C=C/C(=O)NO)c2)cc1      1.0            24   \n",
              "3     O=C(/C=C/c1cccnc1)NCCCCC1CCN(C(=O)c2ccccc2)CC1      1.0            24   \n",
              "4  Cc1cn(-c2cc(NC(=O)c3ccc(C)c(Nc4nccc(-c5cccnc5)...      1.0            24   \n",
              "\n",
              "   control                                Morgan_Fingerprints  \\\n",
              "0    False  [0, 1, 0, 0, 0, 0, 0, 0, 0, 0, 0, 0, 0, 0, 0, ...   \n",
              "1    False  [0, 0, 0, 0, 0, 0, 0, 0, 0, 1, 0, 0, 0, 1, 0, ...   \n",
              "2    False  [0, 0, 0, 0, 0, 0, 0, 0, 0, 0, 0, 0, 0, 0, 0, ...   \n",
              "3    False  [0, 0, 0, 0, 0, 0, 0, 0, 0, 0, 0, 0, 0, 0, 0, ...   \n",
              "4    False  [0, 0, 0, 0, 0, 0, 0, 0, 0, 0, 0, 0, 0, 0, 0, ...   \n",
              "\n",
              "                                            Molecule  \n",
              "0  <rdkit.Chem.rdchem.Mol object at 0x00000254DEC...  \n",
              "1  <rdkit.Chem.rdchem.Mol object at 0x00000254DC1...  \n",
              "2  <rdkit.Chem.rdchem.Mol object at 0x00000254DC1...  \n",
              "3  <rdkit.Chem.rdchem.Mol object at 0x00000254DC1...  \n",
              "4  <rdkit.Chem.rdchem.Mol object at 0x00000254DC1...  "
            ]
          },
          "execution_count": 18,
          "metadata": {},
          "output_type": "execute_result"
        }
      ],
      "source": [
        "df.head()"
      ]
    },
    {
      "cell_type": "code",
      "execution_count": 19,
      "metadata": {
        "colab": {
          "base_uri": "https://localhost:8080/"
        },
        "execution": {
          "iopub.execute_input": "2023-09-25T07:44:44.906564Z",
          "iopub.status.busy": "2023-09-25T07:44:44.906134Z",
          "iopub.status.idle": "2023-09-25T07:44:44.995649Z",
          "shell.execute_reply": "2023-09-25T07:44:44.994510Z",
          "shell.execute_reply.started": "2023-09-25T07:44:44.906532Z"
        },
        "executionInfo": {
          "elapsed": 11,
          "status": "ok",
          "timestamp": 1695711215752,
          "user": {
            "displayName": "",
            "userId": ""
          },
          "user_tz": -330
        },
        "id": "pSSpvNHnOCzC",
        "outputId": "c3737a7c-5201-422c-dc70-d152385e969f",
        "trusted": true
      },
      "outputs": [
        {
          "name": "stdout",
          "output_type": "stream",
          "text": [
            "myeloid_b_cells has no samples.\n"
          ]
        }
      ],
      "source": [
        "from sklearn.model_selection import train_test_split\n",
        "\n",
        "# Define the train set (T, NK cells + 10% of Myeloid and B cells)\n",
        "train_set = df[df['cell_type'].isin(['T cells CD4+', 'T cells CD8+', 'Regulatory T cells', 'NK cells'])]\n",
        "myeloid_b_cells = df[df['cell_type'].isin(['B cells naive', 'Myeloid dendritic cells resting'])]\n",
        "\n",
        "# Check if myeloid_b_cells has any samples\n",
        "if len(myeloid_b_cells) > 0:\n",
        "    myeloid_b_cells_sampled = myeloid_b_cells.sample(frac=0.1, random_state=42)\n",
        "    train_set = pd.concat([train_set, myeloid_b_cells_sampled])\n",
        "\n",
        "    # Define the public test set (50 randomly selected compounds in B and myeloid cells)\n",
        "    public_test_set = myeloid_b_cells.drop(myeloid_b_cells_sampled.index).sample(n=50, random_state=42)\n",
        "\n",
        "    # Define the private test set (79 randomly selected compounds in B and myeloid cells)\n",
        "    private_test_set = myeloid_b_cells.drop(myeloid_b_cells_sampled.index).drop(public_test_set.index)\n",
        "\n",
        "    # Check shapes of the splits\n",
        "    print(f\"Train set shape: {train_set.shape}\")\n",
        "    print(f\"Public test set shape: {public_test_set.shape}\")\n",
        "    print(f\"Private test set shape: {private_test_set.shape}\")\n",
        "else:\n",
        "    print(\"myeloid_b_cells has no samples.\")\n"
      ]
    },
    {
      "cell_type": "code",
      "execution_count": 20,
      "metadata": {
        "colab": {
          "base_uri": "https://localhost:8080/",
          "height": 377
        },
        "execution": {
          "iopub.execute_input": "2023-09-25T07:46:13.481455Z",
          "iopub.status.busy": "2023-09-25T07:46:13.480043Z",
          "iopub.status.idle": "2023-09-25T07:46:14.764845Z",
          "shell.execute_reply": "2023-09-25T07:46:14.763380Z",
          "shell.execute_reply.started": "2023-09-25T07:46:13.481411Z"
        },
        "executionInfo": {
          "elapsed": 3481,
          "status": "ok",
          "timestamp": 1695711219225,
          "user": {
            "displayName": "",
            "userId": ""
          },
          "user_tz": -330
        },
        "id": "0himiAzXOCzC",
        "outputId": "23e97680-2c9b-4756-ec96-e54e2fd5df71",
        "trusted": true
      },
      "outputs": [
        {
          "data": {
            "text/html": [
              "<div>\n",
              "<style scoped>\n",
              "    .dataframe tbody tr th:only-of-type {\n",
              "        vertical-align: middle;\n",
              "    }\n",
              "\n",
              "    .dataframe tbody tr th {\n",
              "        vertical-align: top;\n",
              "    }\n",
              "\n",
              "    .dataframe thead th {\n",
              "        text-align: right;\n",
              "    }\n",
              "</style>\n",
              "<table border=\"1\" class=\"dataframe\">\n",
              "  <thead>\n",
              "    <tr style=\"text-align: right;\">\n",
              "      <th></th>\n",
              "      <th>cell_type</th>\n",
              "      <th>sm_name</th>\n",
              "      <th>sm_lincs_id</th>\n",
              "      <th>SMILES</th>\n",
              "      <th>control</th>\n",
              "      <th>A1BG</th>\n",
              "      <th>A1BG-AS1</th>\n",
              "      <th>A2M</th>\n",
              "      <th>A2M-AS1</th>\n",
              "      <th>A2MP1</th>\n",
              "      <th>...</th>\n",
              "      <th>ZUP1</th>\n",
              "      <th>ZW10</th>\n",
              "      <th>ZWILCH</th>\n",
              "      <th>ZWINT</th>\n",
              "      <th>ZXDA</th>\n",
              "      <th>ZXDB</th>\n",
              "      <th>ZXDC</th>\n",
              "      <th>ZYG11B</th>\n",
              "      <th>ZYX</th>\n",
              "      <th>ZZEF1</th>\n",
              "    </tr>\n",
              "  </thead>\n",
              "  <tbody>\n",
              "    <tr>\n",
              "      <th>609</th>\n",
              "      <td>T regulatory cells</td>\n",
              "      <td>Atorvastatin</td>\n",
              "      <td>LSM-5771</td>\n",
              "      <td>CC(C)c1c(C(=O)Nc2ccccc2)c(-c2ccccc2)c(-c2ccc(F...</td>\n",
              "      <td>False</td>\n",
              "      <td>-0.014372</td>\n",
              "      <td>-0.122464</td>\n",
              "      <td>-0.456366</td>\n",
              "      <td>-0.147894</td>\n",
              "      <td>-0.545382</td>\n",
              "      <td>...</td>\n",
              "      <td>-0.549987</td>\n",
              "      <td>-2.200925</td>\n",
              "      <td>0.359806</td>\n",
              "      <td>1.073983</td>\n",
              "      <td>0.356939</td>\n",
              "      <td>-0.029603</td>\n",
              "      <td>-0.528817</td>\n",
              "      <td>0.105138</td>\n",
              "      <td>0.491015</td>\n",
              "      <td>-0.979951</td>\n",
              "    </tr>\n",
              "    <tr>\n",
              "      <th>610</th>\n",
              "      <td>NK cells</td>\n",
              "      <td>Riociguat</td>\n",
              "      <td>LSM-45758</td>\n",
              "      <td>COC(=O)N(C)c1c(N)nc(-c2nn(Cc3ccccc3F)c3ncccc23...</td>\n",
              "      <td>False</td>\n",
              "      <td>-0.455549</td>\n",
              "      <td>0.188181</td>\n",
              "      <td>0.595734</td>\n",
              "      <td>-0.100299</td>\n",
              "      <td>0.786192</td>\n",
              "      <td>...</td>\n",
              "      <td>-1.236905</td>\n",
              "      <td>0.003854</td>\n",
              "      <td>-0.197569</td>\n",
              "      <td>-0.175307</td>\n",
              "      <td>0.101391</td>\n",
              "      <td>1.028394</td>\n",
              "      <td>0.034144</td>\n",
              "      <td>-0.231642</td>\n",
              "      <td>1.023994</td>\n",
              "      <td>-0.064760</td>\n",
              "    </tr>\n",
              "    <tr>\n",
              "      <th>611</th>\n",
              "      <td>T cells CD4+</td>\n",
              "      <td>Riociguat</td>\n",
              "      <td>LSM-45758</td>\n",
              "      <td>COC(=O)N(C)c1c(N)nc(-c2nn(Cc3ccccc3F)c3ncccc23...</td>\n",
              "      <td>False</td>\n",
              "      <td>0.338168</td>\n",
              "      <td>-0.109079</td>\n",
              "      <td>0.270182</td>\n",
              "      <td>-0.436586</td>\n",
              "      <td>-0.069476</td>\n",
              "      <td>...</td>\n",
              "      <td>0.077579</td>\n",
              "      <td>-1.101637</td>\n",
              "      <td>0.457201</td>\n",
              "      <td>0.535184</td>\n",
              "      <td>-0.198404</td>\n",
              "      <td>-0.005004</td>\n",
              "      <td>0.552810</td>\n",
              "      <td>-0.209077</td>\n",
              "      <td>0.389751</td>\n",
              "      <td>-0.337082</td>\n",
              "    </tr>\n",
              "    <tr>\n",
              "      <th>612</th>\n",
              "      <td>T cells CD8+</td>\n",
              "      <td>Riociguat</td>\n",
              "      <td>LSM-45758</td>\n",
              "      <td>COC(=O)N(C)c1c(N)nc(-c2nn(Cc3ccccc3F)c3ncccc23...</td>\n",
              "      <td>False</td>\n",
              "      <td>0.101138</td>\n",
              "      <td>-0.409724</td>\n",
              "      <td>-0.606292</td>\n",
              "      <td>-0.071300</td>\n",
              "      <td>-0.001789</td>\n",
              "      <td>...</td>\n",
              "      <td>0.005951</td>\n",
              "      <td>-0.893093</td>\n",
              "      <td>-1.003029</td>\n",
              "      <td>-0.080367</td>\n",
              "      <td>-0.076604</td>\n",
              "      <td>0.024849</td>\n",
              "      <td>0.012862</td>\n",
              "      <td>-0.029684</td>\n",
              "      <td>0.005506</td>\n",
              "      <td>-1.733112</td>\n",
              "    </tr>\n",
              "    <tr>\n",
              "      <th>613</th>\n",
              "      <td>T regulatory cells</td>\n",
              "      <td>Riociguat</td>\n",
              "      <td>LSM-45758</td>\n",
              "      <td>COC(=O)N(C)c1c(N)nc(-c2nn(Cc3ccccc3F)c3ncccc23...</td>\n",
              "      <td>False</td>\n",
              "      <td>-0.757116</td>\n",
              "      <td>0.085910</td>\n",
              "      <td>-0.730025</td>\n",
              "      <td>-1.367801</td>\n",
              "      <td>-0.695944</td>\n",
              "      <td>...</td>\n",
              "      <td>0.232343</td>\n",
              "      <td>-2.247816</td>\n",
              "      <td>-0.346036</td>\n",
              "      <td>-0.919567</td>\n",
              "      <td>-1.131372</td>\n",
              "      <td>-0.120252</td>\n",
              "      <td>-0.064537</td>\n",
              "      <td>-0.603280</td>\n",
              "      <td>-0.098041</td>\n",
              "      <td>-0.750681</td>\n",
              "    </tr>\n",
              "  </tbody>\n",
              "</table>\n",
              "<p>5 rows × 18216 columns</p>\n",
              "</div>"
            ],
            "text/plain": [
              "              cell_type       sm_name sm_lincs_id  \\\n",
              "609  T regulatory cells  Atorvastatin    LSM-5771   \n",
              "610            NK cells     Riociguat   LSM-45758   \n",
              "611        T cells CD4+     Riociguat   LSM-45758   \n",
              "612        T cells CD8+     Riociguat   LSM-45758   \n",
              "613  T regulatory cells     Riociguat   LSM-45758   \n",
              "\n",
              "                                                SMILES  control      A1BG  \\\n",
              "609  CC(C)c1c(C(=O)Nc2ccccc2)c(-c2ccccc2)c(-c2ccc(F...    False -0.014372   \n",
              "610  COC(=O)N(C)c1c(N)nc(-c2nn(Cc3ccccc3F)c3ncccc23...    False -0.455549   \n",
              "611  COC(=O)N(C)c1c(N)nc(-c2nn(Cc3ccccc3F)c3ncccc23...    False  0.338168   \n",
              "612  COC(=O)N(C)c1c(N)nc(-c2nn(Cc3ccccc3F)c3ncccc23...    False  0.101138   \n",
              "613  COC(=O)N(C)c1c(N)nc(-c2nn(Cc3ccccc3F)c3ncccc23...    False -0.757116   \n",
              "\n",
              "     A1BG-AS1       A2M   A2M-AS1     A2MP1  ...      ZUP1      ZW10  \\\n",
              "609 -0.122464 -0.456366 -0.147894 -0.545382  ... -0.549987 -2.200925   \n",
              "610  0.188181  0.595734 -0.100299  0.786192  ... -1.236905  0.003854   \n",
              "611 -0.109079  0.270182 -0.436586 -0.069476  ...  0.077579 -1.101637   \n",
              "612 -0.409724 -0.606292 -0.071300 -0.001789  ...  0.005951 -0.893093   \n",
              "613  0.085910 -0.730025 -1.367801 -0.695944  ...  0.232343 -2.247816   \n",
              "\n",
              "       ZWILCH     ZWINT      ZXDA      ZXDB      ZXDC    ZYG11B       ZYX  \\\n",
              "609  0.359806  1.073983  0.356939 -0.029603 -0.528817  0.105138  0.491015   \n",
              "610 -0.197569 -0.175307  0.101391  1.028394  0.034144 -0.231642  1.023994   \n",
              "611  0.457201  0.535184 -0.198404 -0.005004  0.552810 -0.209077  0.389751   \n",
              "612 -1.003029 -0.080367 -0.076604  0.024849  0.012862 -0.029684  0.005506   \n",
              "613 -0.346036 -0.919567 -1.131372 -0.120252 -0.064537 -0.603280 -0.098041   \n",
              "\n",
              "        ZZEF1  \n",
              "609 -0.979951  \n",
              "610 -0.064760  \n",
              "611 -0.337082  \n",
              "612 -1.733112  \n",
              "613 -0.750681  \n",
              "\n",
              "[5 rows x 18216 columns]"
            ]
          },
          "execution_count": 20,
          "metadata": {},
          "output_type": "execute_result"
        }
      ],
      "source": [
        "df2 = pd.read_parquet('data/de_train.parquet')\n",
        "df2.tail()"
      ]
    },
    {
      "cell_type": "code",
      "execution_count": 21,
      "metadata": {
        "execution": {
          "iopub.execute_input": "2023-09-25T07:46:27.165444Z",
          "iopub.status.busy": "2023-09-25T07:46:27.164944Z",
          "iopub.status.idle": "2023-09-25T07:46:27.225155Z",
          "shell.execute_reply": "2023-09-25T07:46:27.223714Z",
          "shell.execute_reply.started": "2023-09-25T07:46:27.165401Z"
        },
        "executionInfo": {
          "elapsed": 10,
          "status": "ok",
          "timestamp": 1695711219226,
          "user": {
            "displayName": "",
            "userId": ""
          },
          "user_tz": -330
        },
        "id": "boEHKG1MOCzC",
        "trusted": true
      },
      "outputs": [],
      "source": [
        "# Drop the 'SMILES' column\n",
        "main_df = df2.drop(columns=[\"sm_lincs_id\", \"control\"])"
      ]
    },
    {
      "cell_type": "markdown",
      "metadata": {
        "id": "YkCh2ySQOCzH"
      },
      "source": [
        "# <div style=\"color:magenta;display:inline-block;border-radius:5px;background-color:#E6FFE6;font-family:Nexa;overflow:hidden\"><p style=\"padding:15px;color:magenta;overflow:hidden;font-size:90%;letter-spacing:0.5px;margin:0\"><b> </b>Build Model and Prediction</p></div>\n"
      ]
    },
    {
      "cell_type": "code",
      "execution_count": 22,
      "metadata": {},
      "outputs": [
        {
          "data": {
            "text/html": [
              "<div>\n",
              "<style scoped>\n",
              "    .dataframe tbody tr th:only-of-type {\n",
              "        vertical-align: middle;\n",
              "    }\n",
              "\n",
              "    .dataframe tbody tr th {\n",
              "        vertical-align: top;\n",
              "    }\n",
              "\n",
              "    .dataframe thead th {\n",
              "        text-align: right;\n",
              "    }\n",
              "</style>\n",
              "<table border=\"1\" class=\"dataframe\">\n",
              "  <thead>\n",
              "    <tr style=\"text-align: right;\">\n",
              "      <th></th>\n",
              "      <th>cell_type</th>\n",
              "      <th>sm_name</th>\n",
              "      <th>SMILES</th>\n",
              "      <th>A1BG</th>\n",
              "      <th>A1BG-AS1</th>\n",
              "      <th>A2M</th>\n",
              "      <th>A2M-AS1</th>\n",
              "      <th>A2MP1</th>\n",
              "      <th>A4GALT</th>\n",
              "      <th>AAAS</th>\n",
              "      <th>...</th>\n",
              "      <th>ZUP1</th>\n",
              "      <th>ZW10</th>\n",
              "      <th>ZWILCH</th>\n",
              "      <th>ZWINT</th>\n",
              "      <th>ZXDA</th>\n",
              "      <th>ZXDB</th>\n",
              "      <th>ZXDC</th>\n",
              "      <th>ZYG11B</th>\n",
              "      <th>ZYX</th>\n",
              "      <th>ZZEF1</th>\n",
              "    </tr>\n",
              "  </thead>\n",
              "  <tbody>\n",
              "    <tr>\n",
              "      <th>0</th>\n",
              "      <td>2</td>\n",
              "      <td>39</td>\n",
              "      <td>101</td>\n",
              "      <td>0.104720</td>\n",
              "      <td>-0.077524</td>\n",
              "      <td>-1.625596</td>\n",
              "      <td>-0.144545</td>\n",
              "      <td>0.143555</td>\n",
              "      <td>0.073229</td>\n",
              "      <td>-0.016823</td>\n",
              "      <td>...</td>\n",
              "      <td>-0.227781</td>\n",
              "      <td>-0.010752</td>\n",
              "      <td>-0.023881</td>\n",
              "      <td>0.674536</td>\n",
              "      <td>-0.453068</td>\n",
              "      <td>0.005164</td>\n",
              "      <td>-0.094959</td>\n",
              "      <td>0.034127</td>\n",
              "      <td>0.221377</td>\n",
              "      <td>0.368755</td>\n",
              "    </tr>\n",
              "    <tr>\n",
              "      <th>1</th>\n",
              "      <td>3</td>\n",
              "      <td>39</td>\n",
              "      <td>101</td>\n",
              "      <td>0.915953</td>\n",
              "      <td>-0.884380</td>\n",
              "      <td>0.371834</td>\n",
              "      <td>-0.081677</td>\n",
              "      <td>-0.498266</td>\n",
              "      <td>0.203559</td>\n",
              "      <td>0.604656</td>\n",
              "      <td>...</td>\n",
              "      <td>-0.494985</td>\n",
              "      <td>-0.303419</td>\n",
              "      <td>0.304955</td>\n",
              "      <td>-0.333905</td>\n",
              "      <td>-0.315516</td>\n",
              "      <td>-0.369626</td>\n",
              "      <td>-0.095079</td>\n",
              "      <td>0.704780</td>\n",
              "      <td>1.096702</td>\n",
              "      <td>-0.869887</td>\n",
              "    </tr>\n",
              "    <tr>\n",
              "      <th>2</th>\n",
              "      <td>4</td>\n",
              "      <td>39</td>\n",
              "      <td>101</td>\n",
              "      <td>-0.387721</td>\n",
              "      <td>-0.305378</td>\n",
              "      <td>0.567777</td>\n",
              "      <td>0.303895</td>\n",
              "      <td>-0.022653</td>\n",
              "      <td>-0.480681</td>\n",
              "      <td>0.467144</td>\n",
              "      <td>...</td>\n",
              "      <td>-0.119422</td>\n",
              "      <td>-0.033608</td>\n",
              "      <td>-0.153123</td>\n",
              "      <td>0.183597</td>\n",
              "      <td>-0.555678</td>\n",
              "      <td>-1.494789</td>\n",
              "      <td>-0.213550</td>\n",
              "      <td>0.415768</td>\n",
              "      <td>0.078439</td>\n",
              "      <td>-0.259365</td>\n",
              "    </tr>\n",
              "    <tr>\n",
              "      <th>3</th>\n",
              "      <td>5</td>\n",
              "      <td>39</td>\n",
              "      <td>101</td>\n",
              "      <td>0.232893</td>\n",
              "      <td>0.129029</td>\n",
              "      <td>0.336897</td>\n",
              "      <td>0.486946</td>\n",
              "      <td>0.767661</td>\n",
              "      <td>0.718590</td>\n",
              "      <td>-0.162145</td>\n",
              "      <td>...</td>\n",
              "      <td>0.451679</td>\n",
              "      <td>0.704643</td>\n",
              "      <td>0.015468</td>\n",
              "      <td>-0.103868</td>\n",
              "      <td>0.865027</td>\n",
              "      <td>0.189114</td>\n",
              "      <td>0.224700</td>\n",
              "      <td>-0.048233</td>\n",
              "      <td>0.216139</td>\n",
              "      <td>-0.085024</td>\n",
              "    </tr>\n",
              "    <tr>\n",
              "      <th>4</th>\n",
              "      <td>2</td>\n",
              "      <td>84</td>\n",
              "      <td>81</td>\n",
              "      <td>4.290652</td>\n",
              "      <td>-0.063864</td>\n",
              "      <td>-0.017443</td>\n",
              "      <td>-0.541154</td>\n",
              "      <td>0.570982</td>\n",
              "      <td>2.022829</td>\n",
              "      <td>0.600011</td>\n",
              "      <td>...</td>\n",
              "      <td>0.758474</td>\n",
              "      <td>0.510762</td>\n",
              "      <td>0.607401</td>\n",
              "      <td>-0.123059</td>\n",
              "      <td>0.214366</td>\n",
              "      <td>0.487838</td>\n",
              "      <td>-0.819775</td>\n",
              "      <td>0.112365</td>\n",
              "      <td>-0.122193</td>\n",
              "      <td>0.676629</td>\n",
              "    </tr>\n",
              "    <tr>\n",
              "      <th>...</th>\n",
              "      <td>...</td>\n",
              "      <td>...</td>\n",
              "      <td>...</td>\n",
              "      <td>...</td>\n",
              "      <td>...</td>\n",
              "      <td>...</td>\n",
              "      <td>...</td>\n",
              "      <td>...</td>\n",
              "      <td>...</td>\n",
              "      <td>...</td>\n",
              "      <td>...</td>\n",
              "      <td>...</td>\n",
              "      <td>...</td>\n",
              "      <td>...</td>\n",
              "      <td>...</td>\n",
              "      <td>...</td>\n",
              "      <td>...</td>\n",
              "      <td>...</td>\n",
              "      <td>...</td>\n",
              "      <td>...</td>\n",
              "      <td>...</td>\n",
              "    </tr>\n",
              "    <tr>\n",
              "      <th>609</th>\n",
              "      <td>5</td>\n",
              "      <td>14</td>\n",
              "      <td>21</td>\n",
              "      <td>-0.014372</td>\n",
              "      <td>-0.122464</td>\n",
              "      <td>-0.456366</td>\n",
              "      <td>-0.147894</td>\n",
              "      <td>-0.545382</td>\n",
              "      <td>-0.544709</td>\n",
              "      <td>0.282458</td>\n",
              "      <td>...</td>\n",
              "      <td>-0.549987</td>\n",
              "      <td>-2.200925</td>\n",
              "      <td>0.359806</td>\n",
              "      <td>1.073983</td>\n",
              "      <td>0.356939</td>\n",
              "      <td>-0.029603</td>\n",
              "      <td>-0.528817</td>\n",
              "      <td>0.105138</td>\n",
              "      <td>0.491015</td>\n",
              "      <td>-0.979951</td>\n",
              "    </tr>\n",
              "    <tr>\n",
              "      <th>610</th>\n",
              "      <td>2</td>\n",
              "      <td>116</td>\n",
              "      <td>53</td>\n",
              "      <td>-0.455549</td>\n",
              "      <td>0.188181</td>\n",
              "      <td>0.595734</td>\n",
              "      <td>-0.100299</td>\n",
              "      <td>0.786192</td>\n",
              "      <td>0.090954</td>\n",
              "      <td>0.169523</td>\n",
              "      <td>...</td>\n",
              "      <td>-1.236905</td>\n",
              "      <td>0.003854</td>\n",
              "      <td>-0.197569</td>\n",
              "      <td>-0.175307</td>\n",
              "      <td>0.101391</td>\n",
              "      <td>1.028394</td>\n",
              "      <td>0.034144</td>\n",
              "      <td>-0.231642</td>\n",
              "      <td>1.023994</td>\n",
              "      <td>-0.064760</td>\n",
              "    </tr>\n",
              "    <tr>\n",
              "      <th>611</th>\n",
              "      <td>3</td>\n",
              "      <td>116</td>\n",
              "      <td>53</td>\n",
              "      <td>0.338168</td>\n",
              "      <td>-0.109079</td>\n",
              "      <td>0.270182</td>\n",
              "      <td>-0.436586</td>\n",
              "      <td>-0.069476</td>\n",
              "      <td>-0.061539</td>\n",
              "      <td>0.002818</td>\n",
              "      <td>...</td>\n",
              "      <td>0.077579</td>\n",
              "      <td>-1.101637</td>\n",
              "      <td>0.457201</td>\n",
              "      <td>0.535184</td>\n",
              "      <td>-0.198404</td>\n",
              "      <td>-0.005004</td>\n",
              "      <td>0.552810</td>\n",
              "      <td>-0.209077</td>\n",
              "      <td>0.389751</td>\n",
              "      <td>-0.337082</td>\n",
              "    </tr>\n",
              "    <tr>\n",
              "      <th>612</th>\n",
              "      <td>4</td>\n",
              "      <td>116</td>\n",
              "      <td>53</td>\n",
              "      <td>0.101138</td>\n",
              "      <td>-0.409724</td>\n",
              "      <td>-0.606292</td>\n",
              "      <td>-0.071300</td>\n",
              "      <td>-0.001789</td>\n",
              "      <td>-0.706087</td>\n",
              "      <td>-0.620919</td>\n",
              "      <td>...</td>\n",
              "      <td>0.005951</td>\n",
              "      <td>-0.893093</td>\n",
              "      <td>-1.003029</td>\n",
              "      <td>-0.080367</td>\n",
              "      <td>-0.076604</td>\n",
              "      <td>0.024849</td>\n",
              "      <td>0.012862</td>\n",
              "      <td>-0.029684</td>\n",
              "      <td>0.005506</td>\n",
              "      <td>-1.733112</td>\n",
              "    </tr>\n",
              "    <tr>\n",
              "      <th>613</th>\n",
              "      <td>5</td>\n",
              "      <td>116</td>\n",
              "      <td>53</td>\n",
              "      <td>-0.757116</td>\n",
              "      <td>0.085910</td>\n",
              "      <td>-0.730025</td>\n",
              "      <td>-1.367801</td>\n",
              "      <td>-0.695944</td>\n",
              "      <td>-0.724985</td>\n",
              "      <td>0.121436</td>\n",
              "      <td>...</td>\n",
              "      <td>0.232343</td>\n",
              "      <td>-2.247816</td>\n",
              "      <td>-0.346036</td>\n",
              "      <td>-0.919567</td>\n",
              "      <td>-1.131372</td>\n",
              "      <td>-0.120252</td>\n",
              "      <td>-0.064537</td>\n",
              "      <td>-0.603280</td>\n",
              "      <td>-0.098041</td>\n",
              "      <td>-0.750681</td>\n",
              "    </tr>\n",
              "  </tbody>\n",
              "</table>\n",
              "<p>614 rows × 18214 columns</p>\n",
              "</div>"
            ],
            "text/plain": [
              "     cell_type  sm_name  SMILES      A1BG  A1BG-AS1       A2M   A2M-AS1  \\\n",
              "0            2       39     101  0.104720 -0.077524 -1.625596 -0.144545   \n",
              "1            3       39     101  0.915953 -0.884380  0.371834 -0.081677   \n",
              "2            4       39     101 -0.387721 -0.305378  0.567777  0.303895   \n",
              "3            5       39     101  0.232893  0.129029  0.336897  0.486946   \n",
              "4            2       84      81  4.290652 -0.063864 -0.017443 -0.541154   \n",
              "..         ...      ...     ...       ...       ...       ...       ...   \n",
              "609          5       14      21 -0.014372 -0.122464 -0.456366 -0.147894   \n",
              "610          2      116      53 -0.455549  0.188181  0.595734 -0.100299   \n",
              "611          3      116      53  0.338168 -0.109079  0.270182 -0.436586   \n",
              "612          4      116      53  0.101138 -0.409724 -0.606292 -0.071300   \n",
              "613          5      116      53 -0.757116  0.085910 -0.730025 -1.367801   \n",
              "\n",
              "        A2MP1    A4GALT      AAAS  ...      ZUP1      ZW10    ZWILCH  \\\n",
              "0    0.143555  0.073229 -0.016823  ... -0.227781 -0.010752 -0.023881   \n",
              "1   -0.498266  0.203559  0.604656  ... -0.494985 -0.303419  0.304955   \n",
              "2   -0.022653 -0.480681  0.467144  ... -0.119422 -0.033608 -0.153123   \n",
              "3    0.767661  0.718590 -0.162145  ...  0.451679  0.704643  0.015468   \n",
              "4    0.570982  2.022829  0.600011  ...  0.758474  0.510762  0.607401   \n",
              "..        ...       ...       ...  ...       ...       ...       ...   \n",
              "609 -0.545382 -0.544709  0.282458  ... -0.549987 -2.200925  0.359806   \n",
              "610  0.786192  0.090954  0.169523  ... -1.236905  0.003854 -0.197569   \n",
              "611 -0.069476 -0.061539  0.002818  ...  0.077579 -1.101637  0.457201   \n",
              "612 -0.001789 -0.706087 -0.620919  ...  0.005951 -0.893093 -1.003029   \n",
              "613 -0.695944 -0.724985  0.121436  ...  0.232343 -2.247816 -0.346036   \n",
              "\n",
              "        ZWINT      ZXDA      ZXDB      ZXDC    ZYG11B       ZYX     ZZEF1  \n",
              "0    0.674536 -0.453068  0.005164 -0.094959  0.034127  0.221377  0.368755  \n",
              "1   -0.333905 -0.315516 -0.369626 -0.095079  0.704780  1.096702 -0.869887  \n",
              "2    0.183597 -0.555678 -1.494789 -0.213550  0.415768  0.078439 -0.259365  \n",
              "3   -0.103868  0.865027  0.189114  0.224700 -0.048233  0.216139 -0.085024  \n",
              "4   -0.123059  0.214366  0.487838 -0.819775  0.112365 -0.122193  0.676629  \n",
              "..        ...       ...       ...       ...       ...       ...       ...  \n",
              "609  1.073983  0.356939 -0.029603 -0.528817  0.105138  0.491015 -0.979951  \n",
              "610 -0.175307  0.101391  1.028394  0.034144 -0.231642  1.023994 -0.064760  \n",
              "611  0.535184 -0.198404 -0.005004  0.552810 -0.209077  0.389751 -0.337082  \n",
              "612 -0.080367 -0.076604  0.024849  0.012862 -0.029684  0.005506 -1.733112  \n",
              "613 -0.919567 -1.131372 -0.120252 -0.064537 -0.603280 -0.098041 -0.750681  \n",
              "\n",
              "[614 rows x 18214 columns]"
            ]
          },
          "execution_count": 22,
          "metadata": {},
          "output_type": "execute_result"
        }
      ],
      "source": [
        "from sklearn import preprocessing\n",
        "\n",
        "le = preprocessing.LabelEncoder()\n",
        "main_df['cell_type'] = le.fit_transform(main_df['cell_type'])\n",
        "main_df['sm_name'] = le.fit_transform(main_df['sm_name'])\n",
        "main_df['SMILES'] = le.fit_transform(main_df['SMILES'])\n",
        "\n",
        "main_df"
      ]
    },
    {
      "cell_type": "code",
      "execution_count": 23,
      "metadata": {},
      "outputs": [
        {
          "data": {
            "text/plain": [
              "Index(['SMILES', 'A1BG', 'A1BG-AS1', 'A2M', 'A2M-AS1', 'A2MP1', 'A4GALT',\n",
              "       'AAAS', 'AACS', 'AAGAB',\n",
              "       ...\n",
              "       'ZUP1', 'ZW10', 'ZWILCH', 'ZWINT', 'ZXDA', 'ZXDB', 'ZXDC', 'ZYG11B',\n",
              "       'ZYX', 'ZZEF1'],\n",
              "      dtype='object', length=18212)"
            ]
          },
          "execution_count": 23,
          "metadata": {},
          "output_type": "execute_result"
        }
      ],
      "source": [
        "targets = main_df.columns[2:]\n",
        "targets"
      ]
    },
    {
      "cell_type": "code",
      "execution_count": 24,
      "metadata": {
        "execution": {
          "iopub.execute_input": "2023-09-25T07:46:31.817594Z",
          "iopub.status.busy": "2023-09-25T07:46:31.817117Z",
          "iopub.status.idle": "2023-09-25T07:46:31.995458Z",
          "shell.execute_reply": "2023-09-25T07:46:31.994015Z",
          "shell.execute_reply.started": "2023-09-25T07:46:31.817558Z"
        },
        "executionInfo": {
          "elapsed": 9,
          "status": "ok",
          "timestamp": 1695711219226,
          "user": {
            "displayName": "",
            "userId": ""
          },
          "user_tz": -330
        },
        "id": "RcPCLmBFOCzH",
        "trusted": true
      },
      "outputs": [],
      "source": [
        "from sklearn.model_selection import train_test_split\n",
        "\n",
        "X = main_df.drop(targets, axis=1)\n",
        "y = main_df[targets]"
      ]
    },
    {
      "cell_type": "code",
      "execution_count": 25,
      "metadata": {
        "execution": {
          "iopub.execute_input": "2023-09-25T07:46:39.151646Z",
          "iopub.status.busy": "2023-09-25T07:46:39.151220Z",
          "iopub.status.idle": "2023-09-25T07:46:39.212691Z",
          "shell.execute_reply": "2023-09-25T07:46:39.211626Z",
          "shell.execute_reply.started": "2023-09-25T07:46:39.151614Z"
        },
        "executionInfo": {
          "elapsed": 9,
          "status": "ok",
          "timestamp": 1695711219226,
          "user": {
            "displayName": "",
            "userId": ""
          },
          "user_tz": -330
        },
        "id": "wXq5KU-UOCzH",
        "trusted": true
      },
      "outputs": [],
      "source": [
        "# Split the data into training and testing sets\n",
        "X_train, X_test, y_train, y_test = train_test_split(X, y, test_size=0.2, random_state=42)\n"
      ]
    },
    {
      "cell_type": "code",
      "execution_count": 26,
      "metadata": {
        "execution": {
          "iopub.execute_input": "2023-09-25T07:46:43.416115Z",
          "iopub.status.busy": "2023-09-25T07:46:43.415711Z",
          "iopub.status.idle": "2023-09-25T07:46:43.709751Z",
          "shell.execute_reply": "2023-09-25T07:46:43.708487Z",
          "shell.execute_reply.started": "2023-09-25T07:46:43.416085Z"
        },
        "executionInfo": {
          "elapsed": 9,
          "status": "ok",
          "timestamp": 1695711219226,
          "user": {
            "displayName": "",
            "userId": ""
          },
          "user_tz": -330
        },
        "id": "OcoV8_TiOCzH",
        "trusted": true
      },
      "outputs": [],
      "source": [
        "from sklearn.tree import DecisionTreeRegressor\n",
        "decision_tree_model = DecisionTreeRegressor()\n",
        "\n",
        "from sklearn.linear_model import LinearRegression\n",
        "linear_reg_model = LinearRegression()\n",
        "\n",
        "from sklearn.neighbors import KNeighborsRegressor\n",
        "knn_model = KNeighborsRegressor()\n",
        "\n",
        "from sklearn.multioutput import MultiOutputRegressor\n",
        "from sklearn.ensemble import RandomForestRegressor\n",
        "base_estimator = RandomForestRegressor(n_estimators=100)\n",
        "random_forest_model = MultiOutputRegressor(base_estimator)\n",
        "\n",
        "from sklearn.linear_model import ElasticNet\n",
        "logistic_reg_model = ElasticNet(alpha=1.0, l1_ratio=0.5)\n",
        "\n",
        "from sklearn.svm import SVR\n",
        "svm_model = MultiOutputRegressor(SVR())"
      ]
    },
    {
      "cell_type": "code",
      "execution_count": 34,
      "metadata": {},
      "outputs": [],
      "source": [
        "from keras.models import Sequential\n",
        "from keras.layers import Dense\n",
        "from keras.layers import Dense, Dropout\n",
        "from keras.optimizers import Adam\n",
        "\n",
        "# get the model\n",
        "def get_model(n_inputs, n_outputs):\n",
        "  model = Sequential()\n",
        "  model.add(Dense(64, input_dim=n_inputs, kernel_initializer='he_normal', activation='relu'))\n",
        "  model.add(Dropout(0.1))  # Dropout for regularization\n",
        "  model.add(Dense(32, activation='relu'))\n",
        "  model.add(Dense(n_outputs, activation='linear'))  # 'linear' activation for regression\n",
        "\n",
        "  # Use the Adam optimizer with a custom learning rate\n",
        "  optimizer = Adam(learning_rate=0.01)  # Experiment with the learning rate\n",
        "\n",
        "  model.compile(loss='mse', optimizer=optimizer)\n",
        "  return model\n",
        "\n",
        "nn_model = get_model(X.shape[1], y.shape[1])"
      ]
    },
    {
      "cell_type": "code",
      "execution_count": 28,
      "metadata": {
        "execution": {
          "iopub.execute_input": "2023-09-25T07:46:48.427820Z",
          "iopub.status.busy": "2023-09-25T07:46:48.427302Z",
          "iopub.status.idle": "2023-09-25T07:47:14.412249Z",
          "shell.execute_reply": "2023-09-25T07:47:14.410925Z",
          "shell.execute_reply.started": "2023-09-25T07:46:48.427777Z"
        },
        "executionInfo": {
          "elapsed": 33151,
          "status": "ok",
          "timestamp": 1695711252370,
          "user": {
            "displayName": "",
            "userId": ""
          },
          "user_tz": -330
        },
        "id": "MHWy_3zwOCzH",
        "trusted": true
      },
      "outputs": [
        {
          "name": "stdout",
          "output_type": "stream",
          "text": [
            "16/16 [==============================] - 3s 29ms/step - loss: 8.9839\n",
            "4/4 [==============================] - 0s 5ms/step\n"
          ]
        }
      ],
      "source": [
        "# Train the Models\n",
        "\n",
        "linear_reg_model.fit(X_train, y_train)\n",
        "logistic_reg_model.fit(X_train, y_train)\n",
        "decision_tree_model.fit(X_train, y_train)\n",
        "svm_model.fit(X_train, y_train)\n",
        "knn_model.fit(X_train, y_train)\n",
        "nn_model.fit(X_train, y_train)\n",
        "\n",
        "\n",
        "# Make Predictions\n",
        "\n",
        "linear_reg_predictions = linear_reg_model.predict(X_test)\n",
        "logistic_reg_predictions = logistic_reg_model.predict(X_test)\n",
        "decision_tree_predictions = decision_tree_model.predict(X_test)\n",
        "svm_predictions = svm_model.predict(X_test)\n",
        "knn_predictions = knn_model.predict(X_test)\n",
        "nn_predictions = nn_model.predict(X_test)\n"
      ]
    },
    {
      "cell_type": "code",
      "execution_count": null,
      "metadata": {
        "executionInfo": {
          "elapsed": 4,
          "status": "ok",
          "timestamp": 1695713597115,
          "user": {
            "displayName": "",
            "userId": ""
          },
          "user_tz": -330
        },
        "id": "jDRZVTGfY1Is"
      },
      "outputs": [],
      "source": [
        "!mkdir /content/models"
      ]
    },
    {
      "cell_type": "code",
      "execution_count": 29,
      "metadata": {
        "executionInfo": {
          "elapsed": 2,
          "status": "ok",
          "timestamp": 1695713599210,
          "user": {
            "displayName": "",
            "userId": ""
          },
          "user_tz": -330
        },
        "id": "8xq-Z9HSYuyx"
      },
      "outputs": [],
      "source": [
        "import pickle\n",
        "\n",
        "file = open('models/linear-reg-model.pkl', 'wb')\n",
        "pickle.dump(linear_reg_model, file)\n",
        "\n",
        "file = open('models/logistic-reg-model.pkl', 'wb')\n",
        "pickle.dump(logistic_reg_model, file)\n",
        "\n",
        "file = open('models/decision-tree-reg-model.pkl', 'wb')\n",
        "pickle.dump(decision_tree_model, file)\n",
        "\n",
        "file = open('models/svm-model.pkl', 'wb')\n",
        "pickle.dump(svm_model, file)\n",
        "\n",
        "file = open('models/knn-model.pkl', 'wb')\n",
        "pickle.dump(knn_model, file)\n",
        "\n",
        "file = open('models/neurl-network-model.pkl', 'wb')\n",
        "pickle.dump(nn_model, file)"
      ]
    },
    {
      "cell_type": "code",
      "execution_count": 30,
      "metadata": {},
      "outputs": [
        {
          "name": "stdout",
          "output_type": "stream",
          "text": [
            "Results for Linear Regression:-\n",
            "Mean Absoulte Error = 0.8277293388263876\n",
            "Mean Squared Error = 3.2976078497986565\n",
            "R-Squared (R2) = -0.04483156481808075\n",
            "\n",
            "==============================\n",
            "\n",
            "Results for Logistic Regression:-\n",
            "Mean Absoulte Error = 0.8082006924487497\n",
            "Mean Squared Error = 3.271018983582298\n",
            "R-Squared (R2) = -0.031816197617850865\n",
            "\n",
            "==============================\n",
            "\n",
            "Results for Decision Tree:-\n",
            "Mean Absoulte Error = 1.3301002324646178\n",
            "Mean Squared Error = 10.97844286484435\n",
            "R-Squared (R2) = -3.67699010769591\n",
            "\n",
            "==============================\n",
            "\n",
            "Results for SVM:-\n",
            "Mean Absoulte Error = 0.681788398875615\n",
            "Mean Squared Error = 3.2717673896076733\n",
            "R-Squared (R2) = -0.01234632927170518\n",
            "\n",
            "==============================\n",
            "\n",
            "Results for KNN:-\n",
            "Mean Absoulte Error = 0.8205754493432114\n",
            "Mean Squared Error = 3.087319667028573\n",
            "R-Squared (R2) = -0.15974032276292258\n",
            "\n",
            "==============================\n",
            "\n",
            "Results for Neural Networks:-\n",
            "Mean Absoulte Error = 0.6835300180588377\n",
            "Mean Squared Error = 3.6338158699163468\n",
            "R-Squared (R2) = -0.029416898399652894\n",
            "\n",
            "==============================\n",
            "\n"
          ]
        }
      ],
      "source": [
        "from sklearn.metrics import accuracy_score, precision_score, recall_score, f1_score, mean_absolute_error, mean_squared_error, r2_score\n",
        "\n",
        "def calculate_results(model_name, y_true, y_pred):\n",
        "    print(f'Results for {model_name}:-')\n",
        "\n",
        "    if isinstance(y_pred[0], int):\n",
        "        accuracy = accuracy_score(y_true, y_pred)\n",
        "        precision = precision_score(y_true, y_pred)\n",
        "        recall = recall_score(y_true, y_pred)\n",
        "        f1 = f1_score(y_true, y_pred)\n",
        "\n",
        "        print(f'Accuracy = {accuracy}')\n",
        "        print(f'Precision = {precision}')\n",
        "        print(f'Recall = {recall}')\n",
        "        print(f'F1 Score = {f1_score}')\n",
        "    \n",
        "    else:\n",
        "        mae = mean_absolute_error(y_true, y_pred)\n",
        "        mse = mean_squared_error(y_true, y_pred)\n",
        "        r2 = r2_score(y_true, y_pred)\n",
        "\n",
        "        print(f'Mean Absoulte Error = {mae}')\n",
        "        print(f'Mean Squared Error = {mse}')\n",
        "        print(f'R-Squared (R2) = {r2}')\n",
        "\n",
        "model_names = ['Linear Regression', 'Logistic Regression', 'Decision Tree', 'SVM', 'KNN', 'Neural Networks']\n",
        "predictions = [linear_reg_predictions, logistic_reg_predictions, decision_tree_predictions, svm_predictions, knn_predictions, nn_predictions]\n",
        "\n",
        "for model_name, y_pred in zip(model_names, predictions):\n",
        "    calculate_results(model_name, y_test, y_pred)\n",
        "    print(\"\\n\"+\"=\"*30+\"\\n\")"
      ]
    },
    {
      "cell_type": "code",
      "execution_count": 31,
      "metadata": {},
      "outputs": [
        {
          "data": {
            "application/vnd.plotly.v1+json": {
              "config": {
                "plotlyServerURL": "https://plot.ly"
              },
              "data": [
                {
                  "marker": {
                    "color": "orange"
                  },
                  "name": "Mean Absolute Error",
                  "type": "bar",
                  "x": [
                    "Linear Regression",
                    "Logistic Regression",
                    "Decision Tree",
                    "SVM",
                    "KNN",
                    "Neural Networks"
                  ],
                  "y": [
                    0.828,
                    0.806,
                    1.182,
                    0.684,
                    0.869,
                    0.679
                  ]
                },
                {
                  "marker": {
                    "color": "red"
                  },
                  "name": "Mean Sqaured Error",
                  "type": "bar",
                  "x": [
                    "Linear Regression",
                    "Logistic Regression",
                    "Decision Tree",
                    "SVM",
                    "KNN",
                    "Neural Networks"
                  ],
                  "y": [
                    3.196,
                    3.172,
                    8.047,
                    3.166,
                    3.395,
                    3.203
                  ]
                }
              ],
              "layout": {
                "barmode": "group",
                "template": {
                  "data": {
                    "bar": [
                      {
                        "error_x": {
                          "color": "#2a3f5f"
                        },
                        "error_y": {
                          "color": "#2a3f5f"
                        },
                        "marker": {
                          "line": {
                            "color": "#E5ECF6",
                            "width": 0.5
                          },
                          "pattern": {
                            "fillmode": "overlay",
                            "size": 10,
                            "solidity": 0.2
                          }
                        },
                        "type": "bar"
                      }
                    ],
                    "barpolar": [
                      {
                        "marker": {
                          "line": {
                            "color": "#E5ECF6",
                            "width": 0.5
                          },
                          "pattern": {
                            "fillmode": "overlay",
                            "size": 10,
                            "solidity": 0.2
                          }
                        },
                        "type": "barpolar"
                      }
                    ],
                    "carpet": [
                      {
                        "aaxis": {
                          "endlinecolor": "#2a3f5f",
                          "gridcolor": "white",
                          "linecolor": "white",
                          "minorgridcolor": "white",
                          "startlinecolor": "#2a3f5f"
                        },
                        "baxis": {
                          "endlinecolor": "#2a3f5f",
                          "gridcolor": "white",
                          "linecolor": "white",
                          "minorgridcolor": "white",
                          "startlinecolor": "#2a3f5f"
                        },
                        "type": "carpet"
                      }
                    ],
                    "choropleth": [
                      {
                        "colorbar": {
                          "outlinewidth": 0,
                          "ticks": ""
                        },
                        "type": "choropleth"
                      }
                    ],
                    "contour": [
                      {
                        "colorbar": {
                          "outlinewidth": 0,
                          "ticks": ""
                        },
                        "colorscale": [
                          [
                            0,
                            "#0d0887"
                          ],
                          [
                            0.1111111111111111,
                            "#46039f"
                          ],
                          [
                            0.2222222222222222,
                            "#7201a8"
                          ],
                          [
                            0.3333333333333333,
                            "#9c179e"
                          ],
                          [
                            0.4444444444444444,
                            "#bd3786"
                          ],
                          [
                            0.5555555555555556,
                            "#d8576b"
                          ],
                          [
                            0.6666666666666666,
                            "#ed7953"
                          ],
                          [
                            0.7777777777777778,
                            "#fb9f3a"
                          ],
                          [
                            0.8888888888888888,
                            "#fdca26"
                          ],
                          [
                            1,
                            "#f0f921"
                          ]
                        ],
                        "type": "contour"
                      }
                    ],
                    "contourcarpet": [
                      {
                        "colorbar": {
                          "outlinewidth": 0,
                          "ticks": ""
                        },
                        "type": "contourcarpet"
                      }
                    ],
                    "heatmap": [
                      {
                        "colorbar": {
                          "outlinewidth": 0,
                          "ticks": ""
                        },
                        "colorscale": [
                          [
                            0,
                            "#0d0887"
                          ],
                          [
                            0.1111111111111111,
                            "#46039f"
                          ],
                          [
                            0.2222222222222222,
                            "#7201a8"
                          ],
                          [
                            0.3333333333333333,
                            "#9c179e"
                          ],
                          [
                            0.4444444444444444,
                            "#bd3786"
                          ],
                          [
                            0.5555555555555556,
                            "#d8576b"
                          ],
                          [
                            0.6666666666666666,
                            "#ed7953"
                          ],
                          [
                            0.7777777777777778,
                            "#fb9f3a"
                          ],
                          [
                            0.8888888888888888,
                            "#fdca26"
                          ],
                          [
                            1,
                            "#f0f921"
                          ]
                        ],
                        "type": "heatmap"
                      }
                    ],
                    "heatmapgl": [
                      {
                        "colorbar": {
                          "outlinewidth": 0,
                          "ticks": ""
                        },
                        "colorscale": [
                          [
                            0,
                            "#0d0887"
                          ],
                          [
                            0.1111111111111111,
                            "#46039f"
                          ],
                          [
                            0.2222222222222222,
                            "#7201a8"
                          ],
                          [
                            0.3333333333333333,
                            "#9c179e"
                          ],
                          [
                            0.4444444444444444,
                            "#bd3786"
                          ],
                          [
                            0.5555555555555556,
                            "#d8576b"
                          ],
                          [
                            0.6666666666666666,
                            "#ed7953"
                          ],
                          [
                            0.7777777777777778,
                            "#fb9f3a"
                          ],
                          [
                            0.8888888888888888,
                            "#fdca26"
                          ],
                          [
                            1,
                            "#f0f921"
                          ]
                        ],
                        "type": "heatmapgl"
                      }
                    ],
                    "histogram": [
                      {
                        "marker": {
                          "pattern": {
                            "fillmode": "overlay",
                            "size": 10,
                            "solidity": 0.2
                          }
                        },
                        "type": "histogram"
                      }
                    ],
                    "histogram2d": [
                      {
                        "colorbar": {
                          "outlinewidth": 0,
                          "ticks": ""
                        },
                        "colorscale": [
                          [
                            0,
                            "#0d0887"
                          ],
                          [
                            0.1111111111111111,
                            "#46039f"
                          ],
                          [
                            0.2222222222222222,
                            "#7201a8"
                          ],
                          [
                            0.3333333333333333,
                            "#9c179e"
                          ],
                          [
                            0.4444444444444444,
                            "#bd3786"
                          ],
                          [
                            0.5555555555555556,
                            "#d8576b"
                          ],
                          [
                            0.6666666666666666,
                            "#ed7953"
                          ],
                          [
                            0.7777777777777778,
                            "#fb9f3a"
                          ],
                          [
                            0.8888888888888888,
                            "#fdca26"
                          ],
                          [
                            1,
                            "#f0f921"
                          ]
                        ],
                        "type": "histogram2d"
                      }
                    ],
                    "histogram2dcontour": [
                      {
                        "colorbar": {
                          "outlinewidth": 0,
                          "ticks": ""
                        },
                        "colorscale": [
                          [
                            0,
                            "#0d0887"
                          ],
                          [
                            0.1111111111111111,
                            "#46039f"
                          ],
                          [
                            0.2222222222222222,
                            "#7201a8"
                          ],
                          [
                            0.3333333333333333,
                            "#9c179e"
                          ],
                          [
                            0.4444444444444444,
                            "#bd3786"
                          ],
                          [
                            0.5555555555555556,
                            "#d8576b"
                          ],
                          [
                            0.6666666666666666,
                            "#ed7953"
                          ],
                          [
                            0.7777777777777778,
                            "#fb9f3a"
                          ],
                          [
                            0.8888888888888888,
                            "#fdca26"
                          ],
                          [
                            1,
                            "#f0f921"
                          ]
                        ],
                        "type": "histogram2dcontour"
                      }
                    ],
                    "mesh3d": [
                      {
                        "colorbar": {
                          "outlinewidth": 0,
                          "ticks": ""
                        },
                        "type": "mesh3d"
                      }
                    ],
                    "parcoords": [
                      {
                        "line": {
                          "colorbar": {
                            "outlinewidth": 0,
                            "ticks": ""
                          }
                        },
                        "type": "parcoords"
                      }
                    ],
                    "pie": [
                      {
                        "automargin": true,
                        "type": "pie"
                      }
                    ],
                    "scatter": [
                      {
                        "fillpattern": {
                          "fillmode": "overlay",
                          "size": 10,
                          "solidity": 0.2
                        },
                        "type": "scatter"
                      }
                    ],
                    "scatter3d": [
                      {
                        "line": {
                          "colorbar": {
                            "outlinewidth": 0,
                            "ticks": ""
                          }
                        },
                        "marker": {
                          "colorbar": {
                            "outlinewidth": 0,
                            "ticks": ""
                          }
                        },
                        "type": "scatter3d"
                      }
                    ],
                    "scattercarpet": [
                      {
                        "marker": {
                          "colorbar": {
                            "outlinewidth": 0,
                            "ticks": ""
                          }
                        },
                        "type": "scattercarpet"
                      }
                    ],
                    "scattergeo": [
                      {
                        "marker": {
                          "colorbar": {
                            "outlinewidth": 0,
                            "ticks": ""
                          }
                        },
                        "type": "scattergeo"
                      }
                    ],
                    "scattergl": [
                      {
                        "marker": {
                          "colorbar": {
                            "outlinewidth": 0,
                            "ticks": ""
                          }
                        },
                        "type": "scattergl"
                      }
                    ],
                    "scattermapbox": [
                      {
                        "marker": {
                          "colorbar": {
                            "outlinewidth": 0,
                            "ticks": ""
                          }
                        },
                        "type": "scattermapbox"
                      }
                    ],
                    "scatterpolar": [
                      {
                        "marker": {
                          "colorbar": {
                            "outlinewidth": 0,
                            "ticks": ""
                          }
                        },
                        "type": "scatterpolar"
                      }
                    ],
                    "scatterpolargl": [
                      {
                        "marker": {
                          "colorbar": {
                            "outlinewidth": 0,
                            "ticks": ""
                          }
                        },
                        "type": "scatterpolargl"
                      }
                    ],
                    "scatterternary": [
                      {
                        "marker": {
                          "colorbar": {
                            "outlinewidth": 0,
                            "ticks": ""
                          }
                        },
                        "type": "scatterternary"
                      }
                    ],
                    "surface": [
                      {
                        "colorbar": {
                          "outlinewidth": 0,
                          "ticks": ""
                        },
                        "colorscale": [
                          [
                            0,
                            "#0d0887"
                          ],
                          [
                            0.1111111111111111,
                            "#46039f"
                          ],
                          [
                            0.2222222222222222,
                            "#7201a8"
                          ],
                          [
                            0.3333333333333333,
                            "#9c179e"
                          ],
                          [
                            0.4444444444444444,
                            "#bd3786"
                          ],
                          [
                            0.5555555555555556,
                            "#d8576b"
                          ],
                          [
                            0.6666666666666666,
                            "#ed7953"
                          ],
                          [
                            0.7777777777777778,
                            "#fb9f3a"
                          ],
                          [
                            0.8888888888888888,
                            "#fdca26"
                          ],
                          [
                            1,
                            "#f0f921"
                          ]
                        ],
                        "type": "surface"
                      }
                    ],
                    "table": [
                      {
                        "cells": {
                          "fill": {
                            "color": "#EBF0F8"
                          },
                          "line": {
                            "color": "white"
                          }
                        },
                        "header": {
                          "fill": {
                            "color": "#C8D4E3"
                          },
                          "line": {
                            "color": "white"
                          }
                        },
                        "type": "table"
                      }
                    ]
                  },
                  "layout": {
                    "annotationdefaults": {
                      "arrowcolor": "#2a3f5f",
                      "arrowhead": 0,
                      "arrowwidth": 1
                    },
                    "autotypenumbers": "strict",
                    "coloraxis": {
                      "colorbar": {
                        "outlinewidth": 0,
                        "ticks": ""
                      }
                    },
                    "colorscale": {
                      "diverging": [
                        [
                          0,
                          "#8e0152"
                        ],
                        [
                          0.1,
                          "#c51b7d"
                        ],
                        [
                          0.2,
                          "#de77ae"
                        ],
                        [
                          0.3,
                          "#f1b6da"
                        ],
                        [
                          0.4,
                          "#fde0ef"
                        ],
                        [
                          0.5,
                          "#f7f7f7"
                        ],
                        [
                          0.6,
                          "#e6f5d0"
                        ],
                        [
                          0.7,
                          "#b8e186"
                        ],
                        [
                          0.8,
                          "#7fbc41"
                        ],
                        [
                          0.9,
                          "#4d9221"
                        ],
                        [
                          1,
                          "#276419"
                        ]
                      ],
                      "sequential": [
                        [
                          0,
                          "#0d0887"
                        ],
                        [
                          0.1111111111111111,
                          "#46039f"
                        ],
                        [
                          0.2222222222222222,
                          "#7201a8"
                        ],
                        [
                          0.3333333333333333,
                          "#9c179e"
                        ],
                        [
                          0.4444444444444444,
                          "#bd3786"
                        ],
                        [
                          0.5555555555555556,
                          "#d8576b"
                        ],
                        [
                          0.6666666666666666,
                          "#ed7953"
                        ],
                        [
                          0.7777777777777778,
                          "#fb9f3a"
                        ],
                        [
                          0.8888888888888888,
                          "#fdca26"
                        ],
                        [
                          1,
                          "#f0f921"
                        ]
                      ],
                      "sequentialminus": [
                        [
                          0,
                          "#0d0887"
                        ],
                        [
                          0.1111111111111111,
                          "#46039f"
                        ],
                        [
                          0.2222222222222222,
                          "#7201a8"
                        ],
                        [
                          0.3333333333333333,
                          "#9c179e"
                        ],
                        [
                          0.4444444444444444,
                          "#bd3786"
                        ],
                        [
                          0.5555555555555556,
                          "#d8576b"
                        ],
                        [
                          0.6666666666666666,
                          "#ed7953"
                        ],
                        [
                          0.7777777777777778,
                          "#fb9f3a"
                        ],
                        [
                          0.8888888888888888,
                          "#fdca26"
                        ],
                        [
                          1,
                          "#f0f921"
                        ]
                      ]
                    },
                    "colorway": [
                      "#636efa",
                      "#EF553B",
                      "#00cc96",
                      "#ab63fa",
                      "#FFA15A",
                      "#19d3f3",
                      "#FF6692",
                      "#B6E880",
                      "#FF97FF",
                      "#FECB52"
                    ],
                    "font": {
                      "color": "#2a3f5f"
                    },
                    "geo": {
                      "bgcolor": "white",
                      "lakecolor": "white",
                      "landcolor": "#E5ECF6",
                      "showlakes": true,
                      "showland": true,
                      "subunitcolor": "white"
                    },
                    "hoverlabel": {
                      "align": "left"
                    },
                    "hovermode": "closest",
                    "mapbox": {
                      "style": "light"
                    },
                    "paper_bgcolor": "white",
                    "plot_bgcolor": "#E5ECF6",
                    "polar": {
                      "angularaxis": {
                        "gridcolor": "white",
                        "linecolor": "white",
                        "ticks": ""
                      },
                      "bgcolor": "#E5ECF6",
                      "radialaxis": {
                        "gridcolor": "white",
                        "linecolor": "white",
                        "ticks": ""
                      }
                    },
                    "scene": {
                      "xaxis": {
                        "backgroundcolor": "#E5ECF6",
                        "gridcolor": "white",
                        "gridwidth": 2,
                        "linecolor": "white",
                        "showbackground": true,
                        "ticks": "",
                        "zerolinecolor": "white"
                      },
                      "yaxis": {
                        "backgroundcolor": "#E5ECF6",
                        "gridcolor": "white",
                        "gridwidth": 2,
                        "linecolor": "white",
                        "showbackground": true,
                        "ticks": "",
                        "zerolinecolor": "white"
                      },
                      "zaxis": {
                        "backgroundcolor": "#E5ECF6",
                        "gridcolor": "white",
                        "gridwidth": 2,
                        "linecolor": "white",
                        "showbackground": true,
                        "ticks": "",
                        "zerolinecolor": "white"
                      }
                    },
                    "shapedefaults": {
                      "line": {
                        "color": "#2a3f5f"
                      }
                    },
                    "ternary": {
                      "aaxis": {
                        "gridcolor": "white",
                        "linecolor": "white",
                        "ticks": ""
                      },
                      "baxis": {
                        "gridcolor": "white",
                        "linecolor": "white",
                        "ticks": ""
                      },
                      "bgcolor": "#E5ECF6",
                      "caxis": {
                        "gridcolor": "white",
                        "linecolor": "white",
                        "ticks": ""
                      }
                    },
                    "title": {
                      "x": 0.05
                    },
                    "xaxis": {
                      "automargin": true,
                      "gridcolor": "white",
                      "linecolor": "white",
                      "ticks": "",
                      "title": {
                        "standoff": 15
                      },
                      "zerolinecolor": "white",
                      "zerolinewidth": 2
                    },
                    "yaxis": {
                      "automargin": true,
                      "gridcolor": "white",
                      "linecolor": "white",
                      "ticks": "",
                      "title": {
                        "standoff": 15
                      },
                      "zerolinecolor": "white",
                      "zerolinewidth": 2
                    }
                  }
                },
                "title": {
                  "text": "Model Evaluation Metrcis"
                },
                "xaxis": {
                  "title": {
                    "text": "Model Name"
                  }
                },
                "yaxis": {
                  "title": {
                    "text": "Score"
                  }
                }
              }
            }
          },
          "metadata": {},
          "output_type": "display_data"
        }
      ],
      "source": [
        "import plotly.graph_objects as go\n",
        "\n",
        "model_names = ['Linear Regression', 'Logistic Regression', 'Decision Tree', 'SVM', 'KNN', 'Neural Networks']\n",
        "mae_scores = [0.828, 0.806, 1.182, 0.684, 0.869, 0.679]\n",
        "mse_scores = [3.196, 3.172, 8.047, 3.166, 3.395, 3.203]\n",
        "\n",
        "fig = go.Figure()\n",
        "fig.add_trace(go.Bar(x=model_names, y=mae_scores, name='Mean Absolute Error', marker_color='orange'))\n",
        "fig.add_trace(go.Bar(x=model_names, y=mse_scores, name='Mean Sqaured Error', marker_color='red'))\n",
        "\n",
        "fig.update_layout(barmode='group', title='Model Evaluation Metrcis', xaxis_title='Model Name', yaxis_title='Score')\n",
        "fig.show()"
      ]
    }
  ],
  "metadata": {
    "colab": {
      "provenance": []
    },
    "kernelspec": {
      "display_name": "Python 3",
      "language": "python",
      "name": "python3"
    },
    "language_info": {
      "codemirror_mode": {
        "name": "ipython",
        "version": 3
      },
      "file_extension": ".py",
      "mimetype": "text/x-python",
      "name": "python",
      "nbconvert_exporter": "python",
      "pygments_lexer": "ipython3",
      "version": "3.10.1"
    }
  },
  "nbformat": 4,
  "nbformat_minor": 0
}
